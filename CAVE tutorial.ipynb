{
 "cells": [
  {
   "cell_type": "markdown",
   "id": "a8523156",
   "metadata": {},
   "source": [
    "# Accessing the CA3 dataset with CAVE\n",
    "\n",
    "This tutorial provides a high-level overview for how to access CA3 dataset through CAVE. CAVE is the [connectome annotation versioning engine](https://doi.org/10.1038/s41592-024-02426-z), a service infrastructure for managing connectomics datasets and is hosted in the cloud for broad access. CAVE supports proofreading of datasets and their analysis even while proofreading is ongoing."
   ]
  },
  {
   "cell_type": "markdown",
   "id": "2297754f",
   "metadata": {},
   "source": [
    "# CAVEclient and setup\n",
    "\n",
    "The CAVEclient is a python library that facilitates communication with a CAVE system. It can be install with \n",
    "\n",
    "`pip install caveclient`"
   ]
  },
  {
   "cell_type": "markdown",
   "id": "af8cf292-b34f-452d-a8d9-82e2bfc3bee7",
   "metadata": {},
   "source": [
    "To install the caveclient when running this in a colab notebook, run:"
   ]
  },
  {
   "cell_type": "code",
   "execution_count": 1,
   "id": "ee9e3b33-7f57-4518-ab7f-e4a417bd576e",
   "metadata": {
    "scrolled": true
   },
   "outputs": [],
   "source": [
    "!pip install caveclient\n",
    "!pip install seaborn"
   ]
  },
  {
   "cell_type": "markdown",
   "id": "edae0a9c-0ce5-4eaa-98fe-a8035f0ca611",
   "metadata": {},
   "source": [
    "and imported like so:"
   ]
  },
  {
   "cell_type": "code",
   "execution_count": 1,
   "id": "97c490d5",
   "metadata": {},
   "outputs": [],
   "source": [
    "import caveclient\n",
    "import pandas as pd\n",
    "import seaborn as sns\n",
    "from matplotlib import pyplot as plt"
   ]
  },
  {
   "cell_type": "markdown",
   "id": "e05448f0",
   "metadata": {},
   "source": [
    "## CAVE account setup\n",
    "\n",
    "Each and every user needs to create a CAVE account and download a user token to access CAVE's services programmatically. CA3 data is publicly available which means that no extra permissions need to be given to a new user account to access the data.\n",
    "\n",
    "A Google account (or Google-enabled account) is required to create a CAVE account.\n",
    "\n",
    "#### Start here if you do not have a CAVE account or are not sure\n",
    "\n",
    "Login to CAVE to setup a new account. To do this go to this [website](https://prod.flywire-daf.com/materialize/views/datastack/flywire_fafb_public).\n",
    "\n",
    "#### Once you have an account: Setup your token\n",
    "\n",
    "Create a new token by running the next cell. Then, copy the token and insert it into the argument of the following cell. These two cells should be redone together to make sure that the correct token is stored on your machine. You can copy your token and store on as many machines as you like. If you think your token has been compromised just reset it but rerunning the following cell."
   ]
  },
  {
   "cell_type": "code",
   "execution_count": 3,
   "id": "0c590dc9",
   "metadata": {},
   "outputs": [],
   "source": [
    "client = caveclient.CAVEclient()\n",
    "client.auth.setup_token(make_new=True)"
   ]
  },
  {
   "cell_type": "markdown",
   "id": "efae7b72-0b16-4b00-b06f-25e9f8a152f9",
   "metadata": {},
   "source": [
    "### Set or save your token"
   ]
  },
  {
   "cell_type": "markdown",
   "id": "21e486c9-1c19-4b19-b567-f1c08f49f521",
   "metadata": {},
   "source": [
    "From the website that just opened up, paste your token here:"
   ]
  },
  {
   "cell_type": "code",
   "execution_count": 4,
   "id": "a085e589-1720-482f-8269-63159d12488a",
   "metadata": {},
   "outputs": [],
   "source": [
    "my_token = \"your token goes here\""
   ]
  },
  {
   "cell_type": "markdown",
   "id": "68c7fee6-55c9-4e21-aca9-ae03be91ac64",
   "metadata": {},
   "source": [
    "If you are running this on your local machine or on a server you can (optionally) store the token on your machine. This makes future uses easier."
   ]
  },
  {
   "cell_type": "code",
   "execution_count": 5,
   "id": "1acf6fcb",
   "metadata": {},
   "outputs": [],
   "source": [
    "# This might not work and that is okay\n",
    "client.auth.save_token(token=my_token, overwrite=True)"
   ]
  },
  {
   "cell_type": "markdown",
   "id": "49610fd6",
   "metadata": {},
   "source": [
    "## Initialize CAVEclient with a datastack\n",
    "\n",
    "Datasets in CAVE are organized as datastacks. These are a combination of an EM dataset, a segmentation and a set of annotations. The datastack for public release is `zheng_ca3`. When you instantiate your client with this datastack, it loads all relevant information to access it."
   ]
  },
  {
   "cell_type": "code",
   "execution_count": 2,
   "id": "32ec45f6",
   "metadata": {},
   "outputs": [],
   "source": [
    "datastack_name = \"zheng_ca3\"\n",
    "client = caveclient.CAVEclient(datastack_name)\n",
    "\n",
    "# One can pass the token directly to the client:\n",
    "# client = caveclient.CAVEclient(datastack_name, auth_token=my_token)"
   ]
  },
  {
   "cell_type": "markdown",
   "id": "7b1bea0f",
   "metadata": {},
   "source": [
    "## Materialization versions\n",
    "\n",
    "Data in CAVE is timestamped and periodically versioned - each (materialization) version corresponds to a specific timestamp. Individual versions are made publicly available. The materialization service provides annotation queries to the dataset. It is available under `client.materialize`. \n",
    "\n",
    "Currently the following versions are publicly available:"
   ]
  },
  {
   "cell_type": "code",
   "execution_count": 3,
   "id": "ac487681",
   "metadata": {},
   "outputs": [
    {
     "data": {
      "text/plain": [
       "[1, 195, 332, 333]"
      ]
     },
     "execution_count": 3,
     "metadata": {},
     "output_type": "execute_result"
    }
   ],
   "source": [
    "client.materialize.get_versions()"
   ]
  },
  {
   "cell_type": "markdown",
   "id": "4940ad95",
   "metadata": {},
   "source": [
    "And these are their associated timestamps (all timestamps are in UTC):"
   ]
  },
  {
   "cell_type": "code",
   "execution_count": 4,
   "id": "8becbac5",
   "metadata": {},
   "outputs": [
    {
     "name": "stdout",
     "output_type": "stream",
     "text": [
      "Version 1: 2024-08-16 03:02:50.468339+00:00\n",
      "Version 195: 2025-02-26 10:10:01.468822+00:00\n",
      "Version 332: 2025-07-19 13:10:01.305123+00:00\n",
      "Version 333: 2025-07-20 13:10:01.304323+00:00\n"
     ]
    }
   ],
   "source": [
    "for version in client.materialize.get_versions():\n",
    "    print(f\"Version {version}: {client.materialize.get_timestamp(version)}\")"
   ]
  },
  {
   "cell_type": "markdown",
   "id": "c776a172",
   "metadata": {},
   "source": [
    "The client will automatically query the latest materialization version. You can specify a `materialization_version` for every query if you want to access a specific version."
   ]
  },
  {
   "cell_type": "code",
   "execution_count": 5,
   "id": "40e1a862",
   "metadata": {},
   "outputs": [
    {
     "data": {
      "text/plain": [
       "['synapses_ca3_v1', 'ca3_cell_type', 'ca3_cell_id', 'c3_nuclei_v1']"
      ]
     },
     "execution_count": 5,
     "metadata": {},
     "output_type": "execute_result"
    }
   ],
   "source": [
    "client.materialize.get_tables()"
   ]
  }
 ],
 "metadata": {
  "kernelspec": {
   "display_name": "Python 3 (ipykernel)",
   "language": "python",
   "name": "python3"
  },
  "language_info": {
   "codemirror_mode": {
    "name": "ipython",
    "version": 3
   },
   "file_extension": ".py",
   "mimetype": "text/x-python",
   "name": "python",
   "nbconvert_exporter": "python",
   "pygments_lexer": "ipython3",
   "version": "3.10.14"
  }
 },
 "nbformat": 4,
 "nbformat_minor": 5
}
