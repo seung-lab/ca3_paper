{
 "cells": [
  {
   "cell_type": "code",
   "execution_count": 1,
   "id": "582917a7",
   "metadata": {},
   "outputs": [
    {
     "name": "stderr",
     "output_type": "stream",
     "text": [
      "INFO  : cloud-volume successfully patched! (navis)\n"
     ]
    }
   ],
   "source": [
    "from cloudvolume import CloudVolume\n",
    "from caveclient import CAVEclient\n",
    "import navis\n",
    "from navis import TreeNeuron\n",
    "import numpy as np\n",
    "import pandas as pd\n",
    "import matplotlib.pyplot as plt\n",
    "from mpl_toolkits.mplot3d import Axes3D \n",
    "import time\n",
    "from tqdm import tqdm\n",
    "import json\n",
    "import uuid  \n",
    "from datetime import datetime, timedelta\n",
    "from scipy.spatial import ConvexHull\n",
    "from sklearn.cluster import DBSCAN\n",
    "from scipy.spatial import distance, distance_matrix, cKDTree\n",
    "from scipy.sparse.csgraph import minimum_spanning_tree\n",
    "import networkx as nx\n",
    "import plotly.express as px\n",
    "import plotly.graph_objects as go\n",
    "import cloudvolume as cv\n",
    "from dateutil import parser\n",
    "import math\n",
    "import pcg_skel\n",
    "\n",
    "navis.patch_cloudvolume()\n",
    "\n",
    "vol = cv.CloudVolume(\"precomputed://gs://zheng_mouse_hippocampus_production/v2/seg_m195\", use_https=True, progress=False) # new from Will\n",
    "seg = cv.CloudVolume(\"graphene://https://minnie.microns-daf.com/segmentation/table/zheng_ca3\", use_https=True) # old\n",
    "\n",
    "client = CAVEclient('zheng_ca3')\n",
    "auth = client.auth\n",
    "\n",
    "# CloudVolume and Cave setup\n",
    "sv = CloudVolume('graphene://https://minnie.microns-daf.com/segmentation/table/zheng_ca3', use_https=True, lru_bytes=int(1e8))"
   ]
  },
  {
   "cell_type": "code",
   "execution_count": 2,
   "id": "86edaa40",
   "metadata": {},
   "outputs": [],
   "source": [
    "import pandas as pd\n",
    "import math\n",
    "import time\n",
    "from tqdm import tqdm\n",
    "\n",
    "def chunk_list(lst, chunk_size):\n",
    "    \"\"\"Split a list into chunks of specified size.\"\"\"\n",
    "    for i in range(0, len(lst), chunk_size):\n",
    "        yield lst[i:i + chunk_size]\n",
    "\n",
    "def flatten_and_clean_ids(raw_list):\n",
    "    \"\"\"\n",
    "    Cleans and flattens a list of possibly comma/space-separated, scientific notation or raw integers.\n",
    "    Skips any invalid entries.\n",
    "    Returns a list of unique ints.\n",
    "    \"\"\"\n",
    "    cleaned_ids = set()\n",
    "\n",
    "    for item in raw_list:\n",
    "        if pd.isna(item):\n",
    "            continue\n",
    "\n",
    "        try:\n",
    "            if isinstance(item, (int, float)):\n",
    "                cleaned_ids.add(int(item))\n",
    "            elif isinstance(item, str):\n",
    "                # Replace commas with spaces, then split on whitespace\n",
    "                parts = item.replace(',', ' ').split()\n",
    "                for part in parts:\n",
    "                    part = part.strip()\n",
    "                    if part:\n",
    "                        try:\n",
    "                            # Handle scientific notation\n",
    "                            num = float(part)\n",
    "                            cleaned_ids.add(int(num))\n",
    "                        except ValueError:\n",
    "                            pass\n",
    "                            #print(f\"Skipping invalid part: {part}\")\n",
    "        except Exception as e:\n",
    "            print(f\"Skipping invalid entry: {item} | Error: {e}\")\n",
    "            continue\n",
    "\n",
    "    return list(cleaned_ids)\n",
    "\n",
    "\n",
    "def query_mossy_fiber_synapses(df_proofread_mfs, client, chunk_size=100, max_requests_per_minute=300):\n",
    "    \"\"\"\n",
    "    Queries synapse data for all unique mossy fiber segment IDs in batches, using batching and rate limiting.\n",
    "    \"\"\"\n",
    "    # Clean and flatten both ID columns\n",
    "    old_segid_list = flatten_and_clean_ids(df_proofread_mfs['Potential mossy fibers'].tolist())\n",
    "    new_segid_list = flatten_and_clean_ids(df_proofread_mfs['new_segids'].tolist())\n",
    "\n",
    "    print(f\"Old segids: {len(old_segid_list)}\")\n",
    "    print(f\"New segids: {len(new_segid_list)}\")\n",
    "\n",
    "    combined_list = list(set(old_segid_list + new_segid_list))\n",
    "    print(f\"Combined unique segids: {len(combined_list)}\")\n",
    "\n",
    "    results = []\n",
    "    requests_made = 0\n",
    "    start_time = time.time()\n",
    "\n",
    "    sid_chunks = list(chunk_list(combined_list, chunk_size))\n",
    "\n",
    "    for chunk in tqdm(sid_chunks, desc=\"Processing SID chunks\"):\n",
    "        try:\n",
    "            # Rate limiting: only 1 request per chunk now\n",
    "            if requests_made >= max_requests_per_minute:\n",
    "                elapsed = time.time() - start_time\n",
    "                if elapsed < 60:\n",
    "                    sleep_time = 60 - elapsed\n",
    "                    print(f\"Rate limit reached. Sleeping for {sleep_time:.2f} seconds...\")\n",
    "                    time.sleep(sleep_time)\n",
    "                start_time = time.time()\n",
    "                requests_made = 0\n",
    "\n",
    "            df_synapse = client.materialize.synapse_query(\n",
    "                pre_ids=chunk,\n",
    "                post_ids=None,\n",
    "                synapse_table=\"synapses_ca3_v1\",\n",
    "                desired_resolution=[18, 18, 45]\n",
    "            )\n",
    "            requests_made += 1\n",
    "\n",
    "            # Go through each SID in the chunk, find its first matching row\n",
    "            for SID in chunk:\n",
    "                match = df_synapse[df_synapse['pre_pt_root_id'] == SID]\n",
    "                if not match.empty:\n",
    "                    row = match.iloc[0]\n",
    "                    results.append({\n",
    "                        \"Mossy Fiber SegID\": SID,\n",
    "                        \"Mossy Fiber Supervoxel\": row['pre_pt_supervoxel_id'],\n",
    "                        \"Mossy Fiber Presynaptic Coordinate\": row['pre_pt_position']\n",
    "                    })\n",
    "\n",
    "        except Exception as e:\n",
    "            print(f\"Error processing chunk {chunk}: {e}\")\n",
    "\n",
    "    df_results = pd.DataFrame(results)\n",
    "    \n",
    "    df_results.to_csv('Mossy_Fibers_Supervoxels_Coords.csv')\n",
    "    \n",
    "    return df_results\n"
   ]
  },
  {
   "cell_type": "code",
   "execution_count": 23,
   "id": "52dd2d96",
   "metadata": {},
   "outputs": [
    {
     "name": "stdout",
     "output_type": "stream",
     "text": [
      "Old segids: 54980\n",
      "New segids: 21274\n",
      "Combined unique segids: 76245\n"
     ]
    },
    {
     "name": "stderr",
     "output_type": "stream",
     "text": [
      "Processing SID chunks: 100%|██████████████████| 763/763 [05:18<00:00,  2.40it/s]\n"
     ]
    }
   ],
   "source": [
    "df_results = query_mossy_fiber_synapses(df_proofread_mfs, client)\n"
   ]
  },
  {
   "cell_type": "code",
   "execution_count": 31,
   "id": "234b7b34",
   "metadata": {},
   "outputs": [],
   "source": [
    "df_results.to_csv('Mossy_Fibers_Supervoxels_Coords.csv')"
   ]
  },
  {
   "cell_type": "code",
   "execution_count": 3,
   "id": "81d25427",
   "metadata": {},
   "outputs": [],
   "source": [
    "df_results = pd.read_csv('Mossy_Fibers_Supervoxels_Coords.csv')"
   ]
  },
  {
   "cell_type": "code",
   "execution_count": 4,
   "id": "20f14120",
   "metadata": {},
   "outputs": [],
   "source": [
    "skel = pcg_skel.pcg_skeleton(root_id=648518346436640768, client=client, root_point_resolution=True)\n"
   ]
  },
  {
   "cell_type": "code",
   "execution_count": 5,
   "id": "2f2c2dc2",
   "metadata": {},
   "outputs": [
    {
     "data": {
      "image/png": "[encoded data removed]",
      "text/plain": [
       "<Figure size 700x600 with 1 Axes>"
      ]
     },
     "metadata": {},
     "output_type": "display_data"
    }
   ],
   "source": [
    "import matplotlib.pyplot as plt\n",
    "import numpy as np\n",
    "\n",
    "# Create a single subplot\n",
    "fig, ax = plt.subplots(figsize=(7, 6))  # Adjust size as needed\n",
    "\n",
    "# Scale the skeleton vertices from μm to voxel space\n",
    "scale_factors = np.array([18, 18, 45])\n",
    "scaled_vertices = skel.vertices / scale_factors  # shape: (n_nodes, 3)\n",
    "edges = skel.edges  # shape: (n_edges, 2)\n",
    "\n",
    "# Plot edges as lines\n",
    "for edge in edges:\n",
    "    point1 = scaled_vertices[edge[0]]\n",
    "    point2 = scaled_vertices[edge[1]]\n",
    "    xs = [point1[0], point2[0]]\n",
    "    ys = [point1[1], point2[1]]\n",
    "    ax.plot(xs, ys, color='black', lw=1.0)\n",
    "\n",
    "ax.set_title(\"Skeleton XY Projection\")\n",
    "ax.set_aspect('equal')\n",
    "ax.axis('off')\n",
    "plt.tight_layout()\n",
    "plt.show()\n"
   ]
  },
  {
   "cell_type": "code",
   "execution_count": null,
   "id": "b95b448e",
   "metadata": {},
   "outputs": [],
   "source": []
  }
 ],
 "metadata": {
  "kernelspec": {
   "display_name": "Python 3 (ipykernel)",
   "language": "python",
   "name": "python3"
  },
  "language_info": {
   "codemirror_mode": {
    "name": "ipython",
    "version": 3
   },
   "file_extension": ".py",
   "mimetype": "text/x-python",
   "name": "python",
   "nbconvert_exporter": "python",
   "pygments_lexer": "ipython3",
   "version": "3.9.13"
  }
 },
 "nbformat": 4,
 "nbformat_minor": 5
}
