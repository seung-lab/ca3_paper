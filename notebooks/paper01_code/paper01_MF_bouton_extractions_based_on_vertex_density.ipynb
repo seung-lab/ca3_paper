{
 "cells": [
  {
   "cell_type": "code",
   "execution_count": 220,
   "id": "65b2d0b3",
   "metadata": {},
   "outputs": [],
   "source": [
    "import numpy as np\n",
    "import pandas as pd\n",
    "import matplotlib.pyplot as plt\n",
    "from matplotlib.lines import Line2D\n",
    "import plotly.graph_objs as go\n",
    "import plotly\n",
    "import plotly.subplots as sp\n",
    "import plotly.io as pio\n",
    "from cloudvolume import CloudVolume as cv\n",
    "from caveclient import CAVEclient\n",
    "import meshparty\n",
    "from meshparty import trimesh_vtk, trimesh_io \n",
    "from scipy.spatial import KDTree\n",
    "import pygsheets\n",
    "from collections import Counter\n",
    "from sklearn.cluster import KMeans\n",
    "import time\n",
    "import pickle\n",
    "import copy \n",
    "from scipy.spatial import cKDTree\n",
    "\n",
    "vol =cv('gs://zheng_mouse_hippocampus_production/v2/seg_m153',parallel=True, progress=False, use_https=True)\n",
    "client = CAVEclient('zheng_ca3')\n"
   ]
  },
  {
   "cell_type": "code",
   "execution_count": 2,
   "id": "e6ac660b",
   "metadata": {},
   "outputs": [],
   "source": [
    "# load MF-PyC ground truth table \n",
    "gc = pygsheets.authorize(service_file = \"./hippca3-8126bea0d603.json\")\n",
    "sheet = gc.open('all_pyramidal_cells')\n",
    "worksheet = sheet.worksheet('title','MF-pyr')\n",
    "mfpc_df = worksheet.get_as_df(start='A4')\n"
   ]
  },
  {
   "cell_type": "code",
   "execution_count": 3,
   "id": "39b0474d",
   "metadata": {},
   "outputs": [
    {
     "name": "stdout",
     "output_type": "stream",
     "text": [
      "Getting latest roots for PC...\n",
      "0\n",
      "100\n",
      "200\n",
      "300\n",
      "400\n",
      "500\n",
      "600\n"
     ]
    }
   ],
   "source": [
    "# get latest PC roots\n",
    "\n",
    "nuclei_coord_in_vol = mfpc_df[['x','y','z']].to_numpy()\n",
    "latest_roots_PC = []\n",
    "print('Getting latest roots for PC...')  \n",
    "cell_ids_scatter = vol.scattered_points(nuclei_coord_in_vol)\n",
    "for i in range(0, len(nuclei_coord_in_vol)):\n",
    "    if i % 100 == 0:\n",
    "        print(i)\n",
    "    cell_ID = [cell_ids_scatter.get(tuple(nuclei_coord_in_vol[i,:]))]\n",
    "    if cell_ID[0] == 0:\n",
    "        cell_ID = np.array([vol[nuclei_coord_in_vol[i,0]-150, nuclei_coord_in_vol[i,1], nuclei_coord_in_vol[i,2]].squeeze()])\n",
    "    if cell_ID[0] == 0:\n",
    "        cell_ID = np.array([vol[nuclei_coord_in_vol[i,0], nuclei_coord_in_vol[i,1]+150, nuclei_coord_in_vol[i,2]].squeeze()])\n",
    "    if cell_ID[0] == 0:\n",
    "        cell_ID = np.array([vol[nuclei_coord_in_vol[i,0], nuclei_coord_in_vol[i,1]-150, nuclei_coord_in_vol[i,2]].squeeze()])\n",
    "    if cell_ID[0] == 0:\n",
    "        print(\"Failed to find neuron segment ID using nuclei center\")\n",
    "    else:\n",
    "        if client.chunkedgraph.is_latest_roots(cell_ID[0]):\n",
    "            latest_roots_PC.append(cell_ID[0])\n",
    "        else:\n",
    "            latest_roots_PC.append(client.chunkedgraph.suggest_latest_roots(cell_ID[0]))\n",
    "#latest_roots_PC_str = [str(num) for num in latest_roots_PC]"
   ]
  },
  {
   "cell_type": "code",
   "execution_count": 193,
   "id": "6b1e13dc",
   "metadata": {},
   "outputs": [],
   "source": [
    "from scipy.spatial import ConvexHull, Delaunay\n",
    "from mpl_toolkits.mplot3d.art3d import Poly3DCollection\n",
    "from scipy.spatial import distance_matrix\n",
    "from scipy.ndimage import label\n",
    "\n",
    "def cluster_center(points):\n",
    "    center = points.mean(axis=0)\n",
    "    d = np.linalg.norm(points - center, axis=1)\n",
    "    return [center]    \n",
    "\n",
    "def get_mesh_in_bbox(vertices, faces, bbox):\n",
    "    x_min, x_max, y_min, y_max, z_min, z_max = bbox\n",
    "    mask = ((vertices[:, 0] >= x_min) & (vertices[:, 0] <= x_max) &\n",
    "            (vertices[:, 1] >= y_min) & (vertices[:, 1] <= y_max) &\n",
    "            (vertices[:, 2] >= z_min) & (vertices[:, 2] <= z_max))\n",
    "    vertices_in_bbox = vertices[mask]\n",
    "    vertex_indices = np.where(mask)[0] \n",
    "    \n",
    "    faces_in_bbox = []\n",
    "    for face in faces:\n",
    "        if all(v in vertex_indices for v in face):\n",
    "            faces_in_bbox.append(face)\n",
    "    faces_in_bbox = np.array(faces_in_bbox)\n",
    "    index_mapping = {global_idx: local_idx for local_idx, global_idx in enumerate(vertex_indices)}\n",
    "    new_faces = np.array([[index_mapping[v] for v in face] for face in faces_in_bbox])\n",
    "    \n",
    "    return vertices_in_bbox, new_faces\n",
    "\n",
    "\n",
    "def cluster_vertices_kmeans(vertices, n_clusters):\n",
    "    kmeans = KMeans(n_clusters=n_clusters, random_state=0)\n",
    "    labels = kmeans.fit_predict(vertices)\n",
    "    return labels, kmeans.cluster_centers_, kmeans.inertia_\n",
    "\n",
    "    \n",
    "def get_cluster_scores(points, n_cluster_max):\n",
    "    kmeans_inertia = np.zeros((n_cluster_max,1))\n",
    "    for i in range(0,n_cluster_max):\n",
    "        _, _, kmeans_inertia[i] = cluster_vertices_kmeans(points, i+1)\n",
    "    return kmeans_inertia\n",
    "        \n",
    "\n",
    "def decide_number_of_clusters(kmeans_inertia):    \n",
    "    inertia_drop_rate = np.divide(kmeans_inertia[:-1], kmeans_inertia[1:])\n",
    "    n_best_cluster = np.argmax(inertia_drop_rate) + 2\n",
    "    if np.all(inertia_drop_rate < 1.8):\n",
    "        n_best_cluster = 1\n",
    "    return n_best_cluster, inertia_drop_rate\n",
    "\n",
    "\n",
    "def split_mesh(vertices, faces, labels):\n",
    "    sub_meshes = []\n",
    "    for cluster_id in np.unique(labels):\n",
    "        cluster_mask = labels == cluster_id\n",
    "        cluster_vertices = vertices[cluster_mask]\n",
    "        cluster_indices = np.where(cluster_mask)[0]\n",
    "\n",
    "        cluster_faces = []\n",
    "        for face in faces:\n",
    "            if all(v in cluster_indices for v in face):\n",
    "                cluster_faces.append(face)\n",
    "        cluster_faces = np.array(cluster_faces)\n",
    "        unique_indices = np.unique(cluster_faces)\n",
    "        if cluster_faces.size == 0:\n",
    "            sub_meshes.append((cluster_vertices, np.array([])))\n",
    "            continue           \n",
    "        index_mapping = {global_idx: local_idx for local_idx, global_idx in enumerate(cluster_indices)}\n",
    "        new_faces = np.array([[index_mapping[v] for v in face] for face in cluster_faces])\n",
    "        #face_normals = mesh.face_normals[np.isin(np.arange(len(mesh.faces)), np.flatnonzero(np.all(np.isin(mesh.faces, unique_indices), axis=1)))]\n",
    "        \n",
    "        sub_meshes.append((cluster_vertices, new_faces))\n",
    "    return sub_meshes\n",
    "\n",
    "\n",
    "def get_foreground_within_convhull(vertices, bw, bbx):\n",
    "    foreground_coords = np.array(np.nonzero(bw)).T  + [bbx.minpt.x, bbx.minpt.y, bbx.minpt.z]\n",
    "    hull = ConvexHull(vertices)\n",
    "    delaunay = Delaunay(vertices[hull.vertices])\n",
    "    inside_hull = delaunay.find_simplex(foreground_coords) >= 0\n",
    "    foreground_inside = np.zeros_like(bw, dtype=np.uint8)\n",
    "    for voxel, is_inside in zip(foreground_coords, inside_hull):\n",
    "        if is_inside:\n",
    "            foreground_inside[tuple(voxel - [bbx.minpt.x, bbx.minpt.y, bbx.minpt.z])] = 1\n",
    "    return foreground_inside\n",
    "\n",
    "\n",
    "def get_bbox(bw):\n",
    "    coords = np.argwhere(bw)\n",
    "    xmin, ymin, zmin = coords.min(axis=0)\n",
    "    xmax, ymax, zmax = coords.max(axis=0)\n",
    "    return [xmin, xmax, ymin, ymax, zmin, zmax]\n",
    "\n",
    "\n",
    "def get_largest_cc(mask):\n",
    "    labeled_mask, num_components = label(mask)\n",
    "    if num_components == 0:\n",
    "        return np.zeros_like(mask)  # No components found, return empty mask\n",
    "    component_sizes = np.bincount(labeled_mask.ravel())\n",
    "    largest_label = np.argmax(component_sizes[1:]) + 1  # Offset by 1 since we ignore background\n",
    "    largest_component_mask = (labeled_mask == largest_label).astype(np.uint8)\n",
    "    return largest_component_mask    \n",
    "\n",
    "def is_orphan_bouton(mask):\n",
    "\n",
    "    nx, ny, nz = mask.shape\n",
    "    boundary_mask = np.zeros_like(mask, dtype=int)\n",
    "\n",
    "    # Check all six faces of the 3D volume and collect touching points\n",
    "    boundary_mask[0:2, :, :] = mask[0:2, :, :]  # x = 0\n",
    "    boundary_mask[nx-3:nx-1, :, :] = mask[nx-3:nx-1, :, :]  # x = max\n",
    "    boundary_mask[:, 0:2, :] = mask[:, 0:2, :]  # y = 0\n",
    "    boundary_mask[:, ny-3:ny-1, :] = mask[:, ny-3:ny-1, :]  # y = max\n",
    "    boundary_mask[:, :, 0:2] = mask[:, :, 0:2]  # z = 0\n",
    "    boundary_mask[:, :, nz-3:nz-1] = mask[:, :,nz-3:nz-1]  # z = max\n",
    "    \n",
    "    boundary_touching_mask = np.logical_and(mask, boundary_mask).astype(int)\n",
    "\n",
    "    if 1 in boundary_touching_mask:\n",
    "        return True\n",
    "    else:\n",
    "        return False\n",
    "    \n",
    "\n",
    "def get_bbox_for_syn_cluster(syn_cluster, vol, ws):\n",
    "    bbx = vol.bounds\n",
    "    min_corner = np.min(syn_cluster, axis=0) / np.array([18,18,45]) *1000 \n",
    "    max_corner = np.max(syn_cluster, axis=0) / np.array([18,18,45]) *1000\n",
    "    bbx.minpt.x = max(bbx.minpt.x, min_corner[0] - ws)\n",
    "    bbx.maxpt.x = min(bbx.maxpt.x, max_corner[0] + ws)\n",
    "    bbx.minpt.y = max(bbx.minpt.y, min_corner[1] - ws)\n",
    "    bbx.maxpt.y = min(bbx.maxpt.y, max_corner[1] + ws)\n",
    "    bbx.minpt.z = max(bbx.minpt.z, min_corner[2] - (ws*2/5))\n",
    "    bbx.maxpt.z = min(bbx.maxpt.z, max_corner[2] + (ws*2/5))    \n",
    "    #bbox_nm = np.array([bbx.minpt.x, bbx.maxpt.x, bbx.minpt.y, bbx.maxpt.y, bbx.minpt.z, bbx.maxpt.z]) * np.array([18,18,18,18,45,45])\n",
    "    #syn_center_bbox_vx = this_syn_center-[bbx.minpt.x, bbx.minpt.y, bbx.minpt.z]\n",
    "    return bbx\n",
    "\n",
    "\n",
    "##############################################\n",
    "# TO DO: replace kmeans by decision boundary at global minimum of a histogram\n",
    "# see Split_MF_boutons_test.ipynb\n",
    "#############################################\n",
    "def divide_vertices_by_count_neighboring_voxels(vertices_bbox_microns, radius):\n",
    "    tree = cKDTree(vertices_bbox_microns)\n",
    "    counts = tree.query_ball_point(vertices_bbox_microns, radius, return_length=True)\n",
    "    counts_reshaped = counts.reshape(-1,1)\n",
    "    kmeans = KMeans(n_clusters=2, random_state=42).fit(counts_reshaped)\n",
    "    threshold_kmeans = np.mean(kmeans.cluster_centers_)\n",
    "    counts_thresholded = (counts >= threshold_kmeans).astype(int)\n",
    "    bouton_vertices = vertices_bbox_microns[counts >= threshold_kmeans]\n",
    "    nonbouton_vertices = vertices_bbox_microns[counts < threshold_kmeans]\n",
    "\n",
    "    return bouton_vertices, nonbouton_vertices, counts, counts_thresholded\n",
    "\n",
    "\n",
    "def save_bouton_split_result_3D_mesh(vertices_bbox_microns, color_weights, latest_mf, latest_root_PC):\n",
    "\n",
    "    fig = go.Figure()\n",
    "    fig.add_trace(go.Scatter3d(\n",
    "        x=vertices_bbox_microns[:, 0], y=vertices_bbox_microns[:, 1], z=vertices_bbox_microns[:, 2],\n",
    "        mode='markers',\n",
    "        marker=dict(size=1, color=color_weights, opacity=0.8, colorbar=dict(title=\"Neighbor Count\")),\n",
    "        name='vertices'\n",
    "    ))        \n",
    "    fig.update_layout(\n",
    "        title=\"3D Scatter Plots\",\n",
    "        scene=dict(\n",
    "            xaxis_title='X',\n",
    "            yaxis_title='Y',\n",
    "            zaxis_title='Z'\n",
    "        )\n",
    "    )\n",
    "    plotly.offline.plot(fig, filename='./result/bouton_split_ver3/'+str(latest_mf)+'_' + str(latest_root_PC)+'.html')\n",
    "\n",
    "\n",
    "def save_bouton_split_result_3D_seg(binary_mask, latest_mf, latest_root_PC):\n",
    "    xc, yc, zc = np.where(binary_mask == 1)\n",
    "    fig = go.Figure()\n",
    "    fig.add_trace(go.Scatter3d(\n",
    "        x=xc, y=yc, z=zc*5/2,\n",
    "        mode='markers',\n",
    "        marker=dict(size=2, color='red', opacity=0.8, colorbar=dict(title=\"Neighbor Count\")),\n",
    "        name='vertices'\n",
    "    ))        \n",
    "    fig.update_layout(\n",
    "        title=\"3D Scatter Plots\",\n",
    "        scene=dict(\n",
    "            xaxis_title='X',\n",
    "            yaxis_title='Y',\n",
    "            zaxis_title='Z'\n",
    "        )\n",
    "    )\n",
    "    plotly.offline.plot(fig, filename='./result/bouton_split_ver3/seg'+str(latest_mf)+'_' + str(latest_root_PC)+'.html')\n",
    "    \n",
    "\n",
    "def get_flat_seg_id_from_coord(syn_center_pos, vol, latest_roots_PC):\n",
    "    temp = []\n",
    "    if len(syn_center_pos) > 9:\n",
    "        for i in range(0,len(syn_center_pos)):    \n",
    "            id_m153 = vol.scattered_points([syn_center_pos[i][0]]) \n",
    "            temp.append(list(id_m153.values())[0])\n",
    "        temp2 = [item for item in temp if item not in latest_roots_PC]\n",
    "        if len(temp2) == 0:\n",
    "            return -1\n",
    "        else:\n",
    "            counts = Counter(temp2)\n",
    "            root_id_m153 = counts.most_common(1)[0][0]\n",
    "    else:\n",
    "        for i in range(0,len(syn_center_pos)):    \n",
    "            id_m153 = vol.scattered_points([syn_center_pos[i][0]]) \n",
    "            temp.append(list(id_m153.values())[0])\n",
    "        temp2 = [item for item in temp if item not in latest_roots_PC]\n",
    "        if len(temp2) == 0:\n",
    "            return -1\n",
    "        else:\n",
    "            counts = Counter(temp2)\n",
    "            root_id_m153 = counts.most_common(1)[0][0]      \n",
    "    return root_id_m153\n",
    "\n",
    "\n",
    "def get_flat_seg_id_from_sv(sv_ids, vol):\n",
    "    root_ids = []\n",
    "    for i in range(0,5):\n",
    "        root_ids.append(client.chunkedgraph.get_root_id(syn_sv_ids[i][0]))\n",
    "    counts = Counter(root_ids)\n",
    "    root_id_m153 = counts.most_common(1)[0][0]\n",
    "    return root_id_m153\n"
   ]
  },
  {
   "cell_type": "code",
   "execution_count": null,
   "id": "3efafb72",
   "metadata": {},
   "outputs": [],
   "source": [
    "'''\n",
    "with open('./variables/potential_mf_ids_250225.pkl','rb') as f: \n",
    "    mf_proof_ids_flat = pickle.load(f)\n",
    "\n",
    "syn_thresh = 4\n",
    "mf_group = []\n",
    "for i in range(0, len(latest_roots_PC)):\n",
    "    syn = client.materialize.synapse_query(pre_ids=mf_proof_ids_flat, post_ids=latest_roots_PC[i], bounding_box=None, bounding_box_column='post_pt_position', \n",
    "                    timestamp=None, remove_autapses=True, include_zeros=False, limit=None, offset=None, \n",
    "                    split_positions=False, desired_resolution=[18,18,45], materialization_version=None, \n",
    "                    synapse_table='synapses_ca3_v1', datastack_name='zheng_ca3', metadata=True) \n",
    "    freq = syn['pre_pt_root_id'].value_counts()\n",
    "    pre_mf_ids = freq[freq > syn_thresh ].index.tolist()\n",
    "    mf_group.append([latest_roots_PC[i],pre_mf_ids])\n",
    "\n",
    "    if i % 10 == 0:\n",
    "        print(i)\n",
    "'''"
   ]
  },
  {
   "cell_type": "code",
   "execution_count": 223,
   "id": "c2404d87",
   "metadata": {},
   "outputs": [
    {
     "name": "stdout",
     "output_type": "stream",
     "text": [
      "639\n"
     ]
    }
   ],
   "source": [
    "with open('./variables/mf_group_th5_250302.pkl', 'rb') as f:  \n",
    "    mf_group = pickle.load(f)\n",
    "print(len(mf_group))\n"
   ]
  },
  {
   "cell_type": "code",
   "execution_count": null,
   "id": "d327c990",
   "metadata": {},
   "outputs": [],
   "source": [
    "'''\n",
    "# remove None\n",
    "idx_none = [i for i, val in enumerate(mf_group) if val is None or len(val) == 0]\n",
    "roots_pc_0114 = [a for i, a in enumerate(roots_pc_0114) if i not in idx_none]\n",
    "mf_group = [a for i, a in enumerate(mf_group) if i not in idx_none]\n",
    "'''"
   ]
  },
  {
   "cell_type": "code",
   "execution_count": 235,
   "id": "deab4af6",
   "metadata": {
    "scrolled": true
   },
   "outputs": [
    {
     "name": "stdout",
     "output_type": "stream",
     "text": [
      "last i =  213\n",
      "at least two boutons\n",
      "bouton 0\n",
      "bouton 1\n",
      "0 , 0\n",
      "single bouton\n",
      "0 , 1\n",
      "single bouton\n",
      "0 , 2\n",
      "single bouton\n",
      "0 , 3\n",
      "single bouton\n",
      "0 , 4\n",
      "single bouton\n",
      "0 , 5\n",
      "single bouton\n",
      "0 , 6\n",
      "single bouton\n",
      "0 , 7\n",
      "at least two boutons\n",
      "bouton 0\n",
      "bouton 1\n",
      "0 , 8\n",
      "single bouton\n",
      "0 , 9\n",
      "at least two boutons\n",
      "bouton 0\n",
      "bouton 1\n",
      "0 , 10\n",
      "single bouton\n",
      "0 , 11\n",
      "single bouton\n",
      "0 , 12\n",
      "single bouton\n",
      "0 , 13\n",
      "single bouton\n",
      "0 , 14\n",
      "single bouton\n",
      "0 , 15\n",
      "single bouton\n",
      "0 , 16\n",
      "single bouton\n",
      "0 , 17\n",
      "single bouton\n",
      "0 , 18\n",
      "single bouton\n",
      "0 , 19\n",
      "single bouton\n",
      "0 , 20\n",
      "single bouton\n",
      "0 , 21\n",
      "single bouton\n"
     ]
    },
    {
     "name": "stderr",
     "output_type": "stream",
     "text": [
      "100%|████████████████████████████████████████████████████████████████████████████████████████████████████████████████████████████████████████████████████| 1/1 [00:00<00:00,  1.58it/s]\n"
     ]
    },
    {
     "name": "stdout",
     "output_type": "stream",
     "text": [
      "0 , 22\n",
      "single bouton\n",
      "0 , 23\n",
      "single bouton\n",
      "0 , 24\n",
      "single bouton\n",
      "0 , 25\n",
      "single bouton\n",
      "0 , 26\n",
      "single bouton\n",
      "0 , 27\n",
      "single bouton\n",
      "0 , 28\n",
      "single bouton\n",
      "0 , 29\n",
      "single bouton\n",
      "0 , 30\n",
      "single bouton\n",
      "0 , 31\n",
      "single bouton\n",
      "0 , 32\n",
      "single bouton\n",
      "0 , 33\n",
      "single bouton\n",
      "0 , 34\n",
      "single bouton\n",
      "0 , 35\n",
      "single bouton\n",
      "0 , 36\n",
      "single bouton\n",
      "0 , 37\n",
      "single bouton\n",
      "0 , 38\n",
      "single bouton\n",
      "0 , 39\n",
      "single bouton\n",
      "0 , 40\n",
      "single bouton\n",
      "0 , 41\n",
      "single bouton\n",
      "0 , 42\n",
      "single bouton\n",
      "0 , 43\n",
      "single bouton\n",
      "0 , 44\n",
      "single bouton\n",
      "0 , 45\n",
      "single bouton\n",
      "0 , 46\n",
      "single bouton\n",
      "0 , 47\n",
      "single bouton\n",
      "0 , 48\n",
      "single bouton\n",
      "0 , 49\n",
      "single bouton\n",
      "0 , 50\n",
      "single bouton\n",
      "0 , 51\n",
      "single bouton\n",
      "0 , 52\n",
      "single bouton\n",
      "0 , 53\n",
      "single bouton\n",
      "0 , 54\n",
      "at least two boutons\n",
      "bouton 0\n",
      "bouton 1\n",
      "0 , 55\n",
      "single bouton\n",
      "0 , 56\n",
      "single bouton\n",
      "0 , 57\n",
      "single bouton\n",
      "0 , 58\n",
      "single bouton\n",
      "0 , 59\n",
      "single bouton\n",
      "0 , 60\n",
      "single bouton\n",
      "0 , 61\n",
      "single bouton\n",
      "0 , 62\n",
      "single bouton\n",
      "0 , 63\n",
      "single bouton\n",
      "0 , 64\n",
      "single bouton\n",
      "0 , 65\n",
      "single bouton\n",
      "0 , 66\n",
      "single bouton\n",
      "0 , 67\n",
      "single bouton\n",
      "0 , 68\n",
      "single bouton\n",
      "0 , 69\n",
      "single bouton\n",
      "0 , 70\n",
      "single bouton\n",
      "0 , 71\n",
      "single bouton\n",
      "0 , 72\n",
      "single bouton\n",
      "0 , 73\n",
      "single bouton\n",
      "0 , 74\n",
      "single bouton\n",
      "0 , 75\n",
      "single bouton\n",
      "0 , 76\n",
      "single bouton\n",
      "0 , 77\n",
      "single bouton\n",
      "0 , 78\n",
      "single bouton\n",
      "0 , 79\n",
      "single bouton\n",
      "0 , 80\n",
      "single bouton\n",
      "0 , 81\n",
      "single bouton\n",
      "0 , 82\n",
      "single bouton\n",
      "0 , 83\n",
      "single bouton\n",
      "0 , 84\n",
      "truncated bouton\n",
      "0 , 85\n",
      "single bouton\n",
      "0 , 86\n",
      "single bouton\n",
      "0 , 87\n",
      "single bouton\n",
      "0 , 88\n",
      "single bouton\n",
      "0 , 89\n",
      "single bouton\n",
      "0 , 90\n",
      "single bouton\n",
      "0 , 91\n",
      "single bouton\n",
      "0 , 92\n",
      "single bouton\n",
      "0 , 93\n",
      "single bouton\n",
      "0 , 94\n",
      "single bouton\n",
      "0 , 95\n",
      "single bouton\n",
      "0 , 96\n",
      "single bouton\n",
      "0 , 97\n",
      "single bouton\n",
      "0 , 98\n",
      "single bouton\n",
      "0 , 99\n",
      "---------------------------------\n",
      "Done!\n",
      "811.5631430149078\n",
      "---------------------------------\n"
     ]
    }
   ],
   "source": [
    "from scipy.spatial import distance\n",
    "import time\n",
    "\n",
    "colors = ['green','blue','yellow','purple','cyan',\"black\"]\n",
    "mesh_dir = '../mesh_data/'\n",
    "\n",
    "def extract_bouton_by_voxel_density(latest_mf, latest_root_PC, vol, syn_coords, radius, syn_sv_id, mm):\n",
    "    mf_pyr_syn_thresh = 3\n",
    "    dsyn_outlier_thresh = 4 #[microns]\n",
    "    n_cluster_syn = 1\n",
    "    result = []\n",
    "    mesh_dir = '../mesh_data/'\n",
    "\n",
    "    if syn_coords.shape[0] > mf_pyr_syn_thresh:\n",
    "        syn_coords_microns = syn_coords * np.array([18,18,45]) / 1000\n",
    "        syn_cluster_center_microns = cluster_center(syn_coords_microns)[0]  \n",
    " \n",
    "        # count number of syn too far away from the center of all syn \n",
    "        # if there are such syn, then this neuron makes more than one bouton on target cell\n",
    "        syn_cluster_center_vx = syn_cluster_center_microns / np.array([18,18,45]) * 1000\n",
    "        n_outlier = 0\n",
    "        for k in range(0, len(syn_coords_microns)):\n",
    "            dist = distance.euclidean(syn_coords_microns[k], syn_cluster_center_microns)\n",
    "            if dist > dsyn_outlier_thresh:\n",
    "                n_outlier += 1\n",
    "                \n",
    "        if n_outlier > 4:  # at least two boutons\n",
    "            #return ['double_bouton_candidate',latest_mf, latest_root_PC, this_syn_center ]           \n",
    "            score = get_cluster_scores(syn_coords_microns, 3)\n",
    "            n_cluster_syn, gain = decide_number_of_clusters(score)             \n",
    "            syn_cluster_labels, syn_cluster_centers, _ = cluster_vertices_kmeans(syn_coords_microns, n_cluster_syn)\n",
    "            unique_syn_labels, counts = np.unique(syn_cluster_labels, return_counts=True)\n",
    "            valid_syn_clusters = unique_syn_labels[counts>mf_pyr_syn_thresh]\n",
    "            print('at least two boutons')\n",
    "            for i in range(0, n_cluster_syn):\n",
    "                if i in valid_syn_clusters:\n",
    "                    syn_cluster_points = syn_coords_microns[syn_cluster_labels == i]\n",
    "                    this_syn_center_vx = syn_cluster_centers[i] / np.array([18,18,45]) * 1000\n",
    "                    print('bouton', i)\n",
    "                    if (this_syn_center_vx[2] > 200) and (this_syn_center_vx[2] < 2040):\n",
    "                        if len(syn_cluster_points) < 24:\n",
    "                            bbx=get_bbox_for_syn_cluster(syn_cluster_points, vol, 200)\n",
    "                        elif len(syn_cluster_points) < 36:\n",
    "                            bbx=get_bbox_for_syn_cluster(syn_cluster_points, vol, 250)\n",
    "                        else:\n",
    "                            bbx=get_bbox_for_syn_cluster(syn_cluster_points, vol, 300)\n",
    "                        bbox_nm = np.array([bbx.minpt.x, bbx.maxpt.x, bbx.minpt.y, bbx.maxpt.y, bbx.minpt.z, bbx.maxpt.z]) * np.array([18,18,18,18,45,45])\n",
    "                        try:\n",
    "                            mesh = mm.mesh(seg_id = latest_mf, remove_duplicate_vertices=True)\n",
    "                        except:\n",
    "                            print('no mesh')\n",
    "                            return ['no mesh available', latest_mf, latest_root_PC, this_syn_center_vx]\n",
    "\n",
    "                        vertices_bbox, faces_bbox = get_mesh_in_bbox(mesh.vertices, mesh.faces, bbox_nm)\n",
    "                        vertices_bbox_microns = vertices_bbox/1000\n",
    "                        try:\n",
    "                            vertices_bouton,vertices_nonbouton,counts,counts_thresholded = divide_vertices_by_count_neighboring_voxels(vertices_bbox_microns, radius)\n",
    "                            vertices_bouton_vx = np.round(vertices_bouton / np.array([18,18,45]) * 1000, decimals=3)\n",
    "                            bouton_bbox = copy.deepcopy(bbx)\n",
    "                            bouton_bbox.minpt.x, bouton_bbox.minpt.y, bouton_bbox.minpt.z = vertices_bouton_vx.min(axis=0)\n",
    "                            bouton_bbox.maxpt.x, bouton_bbox.maxpt.y, bouton_bbox.maxpt.z = vertices_bouton_vx.max(axis=0)  \n",
    "                            seg_bouton = vol.download(bbox=bouton_bbox, label=latest_mf) \n",
    "                            seg_bouton = np.squeeze(seg_bouton, axis=-1)\n",
    "                            bouton_vol = np.round(np.sum(seg_bouton) * 0.018 * 0.018 * 0.045, decimals=4)\n",
    "\n",
    "                            result.append(['double_bouton',latest_mf, latest_root_PC, this_syn_center_vx, len(syn_coords), bouton_vol, bouton_bbox, syn_sv_id])\n",
    "                        \n",
    "                            #save_bouton_split_result_3D_seg(seg_bouton, latest_mf, latest_root_PC)\n",
    "                            save_bouton_split_result_3D_mesh(vertices_bbox_microns, counts_thresholded, latest_mf, latest_root_PC)\n",
    "                        except:\n",
    "                            print('likely to be not MF')\n",
    "                            result.append(['not MF',latest_mf, latest_root_PC, this_syn_center_vx, len(syn_coords), syn_sv_id])\n",
    "    \n",
    "                        \n",
    "        else: \n",
    "            \n",
    "            \n",
    "            if (syn_cluster_center_vx[2] > 200) and (syn_cluster_center_vx[2] < 2040):\n",
    "                print('single bouton')\n",
    "                if len(syn_coords_microns) < 24:\n",
    "                    bbx=get_bbox_for_syn_cluster(syn_coords_microns, vol, 400)\n",
    "                elif len(syn_coords_microns) < 36:\n",
    "                    bbx=get_bbox_for_syn_cluster(syn_coords_microns, vol, 500)\n",
    "                else:\n",
    "                    bbx=get_bbox_for_syn_cluster(syn_coords_microns, vol, 600)\n",
    "                bbox_nm = np.array([bbx.minpt.x, bbx.maxpt.x, bbx.minpt.y, bbx.maxpt.y, bbx.minpt.z, bbx.maxpt.z]) * np.array([18,18,18,18,45,45])\n",
    "                #syn_center_bbox_vx = this_syn_center-[bbx.minpt.x, bbx.minpt.y, bbx.minpt.z]\n",
    "                try:\n",
    "                    mesh = mm.mesh(seg_id = latest_mf, remove_duplicate_vertices=True)\n",
    "                except:\n",
    "                    print('no mesh')\n",
    "                    return ['no mesh available', latest_mf, latest_root_PC, syn_cluster_center_vx]\n",
    "\n",
    "                vertices_bbox, faces_bbox = get_mesh_in_bbox(mesh.vertices, mesh.faces, bbox_nm)\n",
    "                vertices_bbox_microns = vertices_bbox/1000\n",
    "                vertices_bouton,vertices_nonbouton,counts,counts_thresholded = divide_vertices_by_count_neighboring_voxels(vertices_bbox_microns, radius)\n",
    "                vertices_bouton_vx = np.round(vertices_bouton / np.array([18,18,45]) * 1000, decimals=3)\n",
    "                bouton_bbox = copy.deepcopy(bbx)\n",
    "                bouton_bbox.minpt.x, bouton_bbox.minpt.y, bouton_bbox.minpt.z = vertices_bouton_vx.min(axis=0)\n",
    "                bouton_bbox.maxpt.x, bouton_bbox.maxpt.y, bouton_bbox.maxpt.z = vertices_bouton_vx.max(axis=0)  \n",
    "                seg_bouton = vol.download(bbox=bouton_bbox, label=latest_mf)  \n",
    "                seg_bouton = np.squeeze(seg_bouton, axis=-1)\n",
    "                bouton_vol = np.round(np.sum(seg_bouton) * 0.018 * 0.018 * 0.045, decimals=4)\n",
    "                    \n",
    "                result.append([latest_mf, latest_root_PC, syn_cluster_center_vx, len(syn_coords), bouton_vol, bouton_bbox, syn_sv_id])\n",
    "                \n",
    "                #save_bouton_split_result_3D_seg(seg_bouton, latest_mf, latest_root_PC)\n",
    "                save_bouton_split_result_3D_mesh(vertices_bbox_microns, counts_thresholded, latest_mf, latest_root_PC)\n",
    "        \n",
    "            else:\n",
    "                print('truncated bouton')\n",
    "            \n",
    "        return result\n",
    "\n",
    "stime = time.time()\n",
    "radius = 3\n",
    "results = []\n",
    "print('last i = ', len(latest_roots_PC)//3*1)\n",
    "for i in range(0,1):\n",
    "#for i in range(183,len(latest_roots_PC)//3*1):\n",
    "\n",
    "    latest_root_mfs = mf_group[i][1]\n",
    "    #latest_root_mfs = [648518346444590140,648518346440318053]\n",
    "    if latest_root_mfs is not None:\n",
    "        latest_root_pc = client.chunkedgraph.suggest_latest_roots(mf_group[i][0])\n",
    "        #latest_root_pc = 648518346451792508\n",
    "        syn = client.materialize.synapse_query(pre_ids=latest_root_mfs, post_ids=latest_root_pc, bounding_box=None, bounding_box_column='post_pt_position', \n",
    "                    timestamp=None, remove_autapses=True, include_zeros=False, limit=None, offset=None, \n",
    "                    split_positions=False, desired_resolution=[18,18,45], materialization_version=None, \n",
    "                    synapse_table='synapses_ca3_v1', datastack_name='zheng_ca3', metadata=True) \n",
    "        for j in range(0,100):\n",
    "#        for j in range(0,len(latest_root_mfs)):\n",
    "#            if i==183 and j <= 46:   # to carry on from interrupted previous run\n",
    "#                continue\n",
    "#            time.sleep(1)\n",
    "            \n",
    "            mm = trimesh_io.MeshMeta(cv_path='gs://zheng_mouse_hippocampus_production/v2/seg_m153',\n",
    "                                    disk_cache_path=mesh_dir, cache_size=20)\n",
    "            syn_center_pos = syn.loc[syn['pre_pt_root_id'] == latest_root_mfs[j], ['pre_pt_position']].values\n",
    "            if len(syn_center_pos) == 0:\n",
    "                latest_root_mfs[j] = client.chunkedgraph.suggest_latest_roots(latest_root_mfs[j])\n",
    "                syn2 = client.materialize.synapse_query(pre_ids=latest_root_mfs[j], post_ids=latest_root_pc, bounding_box=None, bounding_box_column='post_pt_position', \n",
    "                    timestamp=None, remove_autapses=True, include_zeros=False, limit=None, offset=None, \n",
    "                    split_positions=False, desired_resolution=[18,18,45], materialization_version=None, \n",
    "                    synapse_table='synapses_ca3_v1', datastack_name='zheng_ca3', metadata=True) \n",
    "                if len(syn2) > 0:\n",
    "                    syn_center_pos = syn2.loc[syn2['pre_pt_root_id'] == latest_root_mfs[j], ['pre_pt_position']].values\n",
    "                    syn_sv_ids = syn2.loc[syn2['pre_pt_root_id'] == latest_root_mfs[j], ['pre_pt_supervoxel_id']].values\n",
    "                    syn_sv_id3 = [syn_sv_ids[0][0],syn_sv_ids[1][0],syn_sv_ids[2][0]]\n",
    "                else:\n",
    "                    continue\n",
    "            else:\n",
    "                syn_sv_ids = syn.loc[syn['pre_pt_root_id'] == latest_root_mfs[j], ['pre_pt_supervoxel_id']].values\n",
    "                syn_sv_id3 = [syn_sv_ids[0][0],syn_sv_ids[1][0],syn_sv_ids[2][0]]\n",
    "                \n",
    "            #mf_id_flat_seg_m153 = get_flat_seg_id_from_sv(syn_sv_ids, vol)\n",
    "            mf_id_flat_seg_m153 = get_flat_seg_id_from_coord(syn_center_pos, vol, latest_roots_PC)\n",
    "            syn_coords = np.array([arr[0] for arr in syn_center_pos])            \n",
    "\n",
    "            if mf_id_flat_seg_m153 == -1:\n",
    "                print('Cannot locate MF seg from flat segmentation, Trying latest segmentation...')\n",
    "                mm = trimesh_io.MeshMeta(cv_path='graphene://https://minnie.microns-daf.com/segmentation/table/zheng_ca3',\n",
    "                                        disk_cache_path=mesh_dir, cache_size=20)\n",
    "                mf_id_flat_seg_m153 = latest_root_mfs[j]      \n",
    "                try:\n",
    "                    result = extract_bouton_by_voxel_density(mf_id_flat_seg_m153, latest_root_pc, vol, syn_coords, radius, syn_sv_id3, mm)\n",
    "                    results.append(result)\n",
    "                    print(i ,',', j)\n",
    "                \n",
    "                except:\n",
    "                    print('Still cannot locate MF')\n",
    "                    results.append(['Cannot locate MF using syn coords and supervoxels'])\n",
    "                    print(i ,',', j)\n",
    "                    print(mf_id_flat_seg_m153)\n",
    "                    print(latest_root_pc) \n",
    "                \n",
    "            else:\n",
    "                result = extract_bouton_by_voxel_density(mf_id_flat_seg_m153, latest_root_pc, vol, syn_coords, radius, syn_sv_id3, mm)\n",
    "                results.append(result)\n",
    "                print(i ,',', j)\n",
    "    \n",
    "print('---------------------------------')\n",
    "print('Done!')\n",
    "etime = time.time()\n",
    "print(etime-stime)\n",
    "print('---------------------------------')\n",
    "#print(results)\n",
    "\n",
    "#with open(\"./variables/mf_double_bouton_split_best_250302_01.pkl\", \"wb\") as file:\n",
    "#    pickle.dump(results, file)"
   ]
  },
  {
   "cell_type": "code",
   "execution_count": 180,
   "id": "a43b6aa3",
   "metadata": {},
   "outputs": [
    {
     "name": "stdout",
     "output_type": "stream",
     "text": [
      "639\n",
      "[124, 206, 224, 111, 102, 147, 157, 130, 255, 111, 103, 118, 105, 147, 188, 152, 127, 207, 133, 250, 103, 104, 227, 121, 114, 157, 142, 104, 109, 110, 129, 292, 137, 173, 122, 158, 287, 101]\n"
     ]
    }
   ],
   "source": [
    "with open('./variables/mf_group_th5_250302.pkl', 'rb') as f:  \n",
    "    mf_group = pickle.load(f)\n",
    "print(len(mf_group))\n",
    "\n",
    "#len_group = [len(item) for item in bouton_vols_grouped]\n",
    "gt_numMF = mfpc_df['GT_numMF'].values.tolist()\n",
    "gt_pc_roots = mfpc_df['segid_0114'].values.tolist()\n",
    "\n",
    "#print((len_group))\n",
    "#print(gt_numMF)\n",
    "\n",
    "numMF_thresh = 100\n",
    "large_pyc = [a for a,b in zip(gt_pc_roots, gt_numMF) if b > numMF_thresh]\n",
    "large_numMF = [b for b in gt_numMF if b > numMF_thresh]\n",
    "print(large_numMF)"
   ]
  },
  {
   "cell_type": "code",
   "execution_count": 214,
   "id": "6a1518e1",
   "metadata": {
    "scrolled": true
   },
   "outputs": [
    {
     "name": "stdout",
     "output_type": "stream",
     "text": [
      "used MFs 144\n",
      "potentially unused MFs 98\n",
      "GT_numMF 137\n",
      "single bouton\n",
      "32 , 62\n",
      "single bouton\n"
     ]
    },
    {
     "name": "stderr",
     "output_type": "stream",
     "text": [
      "100%|██████████████████████████████████████████████████████████| 1/1 [00:00<00:00,  1.83it/s]\n"
     ]
    },
    {
     "name": "stdout",
     "output_type": "stream",
     "text": [
      "32 , 63\n",
      "single bouton\n"
     ]
    },
    {
     "name": "stderr",
     "output_type": "stream",
     "text": [
      "100%|██████████████████████████████████████████████████████████| 1/1 [00:00<00:00,  1.76it/s]\n"
     ]
    },
    {
     "name": "stdout",
     "output_type": "stream",
     "text": [
      "32 , 73\n",
      "single bouton\n",
      "32 , 76\n",
      "single bouton\n"
     ]
    },
    {
     "name": "stderr",
     "output_type": "stream",
     "text": [
      "100%|██████████████████████████████████████████████████████████| 1/1 [00:00<00:00,  1.46it/s]\n"
     ]
    },
    {
     "name": "stdout",
     "output_type": "stream",
     "text": [
      "32 , 77\n",
      "single bouton\n"
     ]
    },
    {
     "name": "stderr",
     "output_type": "stream",
     "text": [
      "100%|██████████████████████████████████████████████████████████| 1/1 [00:00<00:00,  2.93it/s]\n"
     ]
    },
    {
     "name": "stdout",
     "output_type": "stream",
     "text": [
      "32 , 84\n",
      "truncated bouton\n",
      "32 , 85\n",
      "single bouton\n",
      "32 , 87\n",
      "single bouton\n",
      "32 , 95\n",
      "used MFs 146\n",
      "potentially unused MFs 103\n",
      "GT_numMF 173\n",
      "single bouton\n",
      "33 , 32\n",
      "33 , 33\n",
      "single bouton\n"
     ]
    },
    {
     "name": "stderr",
     "output_type": "stream",
     "text": [
      "100%|██████████████████████████████████████████████████████████| 1/1 [00:00<00:00,  2.17it/s]\n"
     ]
    },
    {
     "name": "stdout",
     "output_type": "stream",
     "text": [
      "33 , 39\n",
      "single bouton\n",
      "33 , 40\n",
      "truncated bouton\n",
      "33 , 41\n",
      "single bouton\n"
     ]
    },
    {
     "name": "stderr",
     "output_type": "stream",
     "text": [
      "100%|██████████████████████████████████████████████████████████| 1/1 [00:00<00:00,  1.56it/s]\n"
     ]
    },
    {
     "name": "stdout",
     "output_type": "stream",
     "text": [
      "33 , 42\n",
      "single bouton\n"
     ]
    },
    {
     "name": "stderr",
     "output_type": "stream",
     "text": [
      "100%|██████████████████████████████████████████████████████████| 1/1 [00:00<00:00,  1.98it/s]\n"
     ]
    },
    {
     "name": "stdout",
     "output_type": "stream",
     "text": [
      "33 , 43\n",
      "single bouton\n"
     ]
    },
    {
     "name": "stderr",
     "output_type": "stream",
     "text": [
      "100%|██████████████████████████████████████████████████████████| 1/1 [00:00<00:00,  1.29it/s]\n"
     ]
    },
    {
     "name": "stdout",
     "output_type": "stream",
     "text": [
      "33 , 47\n",
      "single bouton\n"
     ]
    },
    {
     "name": "stderr",
     "output_type": "stream",
     "text": [
      "100%|██████████████████████████████████████████████████████████| 1/1 [00:00<00:00,  1.33it/s]\n"
     ]
    },
    {
     "name": "stdout",
     "output_type": "stream",
     "text": [
      "33 , 48\n",
      "single bouton\n"
     ]
    },
    {
     "name": "stderr",
     "output_type": "stream",
     "text": [
      "100%|██████████████████████████████████████████████████████████| 1/1 [00:00<00:00,  2.16it/s]\n"
     ]
    },
    {
     "name": "stdout",
     "output_type": "stream",
     "text": [
      "33 , 51\n",
      "single bouton\n",
      "33 , 53\n",
      "single bouton\n"
     ]
    },
    {
     "name": "stderr",
     "output_type": "stream",
     "text": [
      "100%|██████████████████████████████████████████████████████████| 1/1 [00:00<00:00,  1.48it/s]\n"
     ]
    },
    {
     "name": "stdout",
     "output_type": "stream",
     "text": [
      "33 , 54\n",
      "single bouton\n"
     ]
    },
    {
     "name": "stderr",
     "output_type": "stream",
     "text": [
      "100%|██████████████████████████████████████████████████████████| 1/1 [00:00<00:00,  2.06it/s]\n"
     ]
    },
    {
     "name": "stdout",
     "output_type": "stream",
     "text": [
      "33 , 55\n",
      "single bouton\n"
     ]
    },
    {
     "name": "stderr",
     "output_type": "stream",
     "text": [
      "100%|██████████████████████████████████████████████████████████| 1/1 [00:00<00:00,  1.96it/s]\n"
     ]
    },
    {
     "name": "stdout",
     "output_type": "stream",
     "text": [
      "33 , 56\n",
      "single bouton\n",
      "33 , 61\n",
      "33 , 62\n",
      "single bouton\n"
     ]
    },
    {
     "name": "stderr",
     "output_type": "stream",
     "text": [
      "100%|██████████████████████████████████████████████████████████| 1/1 [00:00<00:00,  1.75it/s]\n"
     ]
    },
    {
     "name": "stdout",
     "output_type": "stream",
     "text": [
      "33 , 63\n",
      "single bouton\n",
      "33 , 65\n",
      "single bouton\n"
     ]
    },
    {
     "name": "stderr",
     "output_type": "stream",
     "text": [
      "100%|██████████████████████████████████████████████████████████| 1/1 [00:00<00:00,  2.06it/s]\n"
     ]
    },
    {
     "name": "stdout",
     "output_type": "stream",
     "text": [
      "33 , 66\n",
      "single bouton\n",
      "33 , 67\n",
      "single bouton\n",
      "33 , 68\n",
      "single bouton\n",
      "33 , 69\n",
      "single bouton\n"
     ]
    },
    {
     "name": "stderr",
     "output_type": "stream",
     "text": [
      "100%|██████████████████████████████████████████████████████████| 1/1 [00:00<00:00,  1.35it/s]\n"
     ]
    },
    {
     "name": "stdout",
     "output_type": "stream",
     "text": [
      "33 , 70\n",
      "single bouton\n"
     ]
    },
    {
     "name": "stderr",
     "output_type": "stream",
     "text": [
      "100%|██████████████████████████████████████████████████████████| 1/1 [00:00<00:00,  2.38it/s]\n"
     ]
    },
    {
     "name": "stdout",
     "output_type": "stream",
     "text": [
      "33 , 71\n",
      "single bouton\n",
      "33 , 79\n",
      "single bouton\n",
      "33 , 81\n",
      "single bouton\n"
     ]
    },
    {
     "name": "stderr",
     "output_type": "stream",
     "text": [
      "100%|██████████████████████████████████████████████████████████| 1/1 [00:00<00:00,  1.87it/s]\n"
     ]
    },
    {
     "name": "stdout",
     "output_type": "stream",
     "text": [
      "33 , 83\n",
      "single bouton\n"
     ]
    },
    {
     "name": "stderr",
     "output_type": "stream",
     "text": [
      "100%|██████████████████████████████████████████████████████████| 1/1 [00:00<00:00,  1.88it/s]\n"
     ]
    },
    {
     "name": "stdout",
     "output_type": "stream",
     "text": [
      "33 , 84\n",
      "single bouton\n"
     ]
    },
    {
     "name": "stderr",
     "output_type": "stream",
     "text": [
      "100%|██████████████████████████████████████████████████████████| 1/1 [00:00<00:00,  2.18it/s]\n"
     ]
    },
    {
     "name": "stdout",
     "output_type": "stream",
     "text": [
      "33 , 85\n",
      "single bouton\n",
      "33 , 86\n",
      "single bouton\n",
      "33 , 87\n",
      "single bouton\n"
     ]
    },
    {
     "name": "stderr",
     "output_type": "stream",
     "text": [
      "100%|██████████████████████████████████████████████████████████| 1/1 [00:00<00:00,  2.41it/s]\n"
     ]
    },
    {
     "name": "stdout",
     "output_type": "stream",
     "text": [
      "33 , 88\n",
      "single bouton\n"
     ]
    },
    {
     "name": "stderr",
     "output_type": "stream",
     "text": [
      "100%|██████████████████████████████████████████████████████████| 1/1 [00:00<00:00,  1.89it/s]\n"
     ]
    },
    {
     "name": "stdout",
     "output_type": "stream",
     "text": [
      "33 , 90\n",
      "33 , 101\n",
      "used MFs 97\n",
      "potentially unused MFs 98\n",
      "GT_numMF 122\n",
      "truncated bouton\n",
      "34 , 34\n",
      "single bouton\n"
     ]
    },
    {
     "name": "stderr",
     "output_type": "stream",
     "text": [
      "100%|██████████████████████████████████████████████████████████| 1/1 [00:00<00:00,  1.57it/s]\n"
     ]
    },
    {
     "name": "stdout",
     "output_type": "stream",
     "text": [
      "34 , 35\n",
      "single bouton\n"
     ]
    },
    {
     "name": "stderr",
     "output_type": "stream",
     "text": [
      "100%|██████████████████████████████████████████████████████████| 1/1 [00:00<00:00,  1.85it/s]\n"
     ]
    },
    {
     "name": "stdout",
     "output_type": "stream",
     "text": [
      "34 , 36\n",
      "single bouton\n"
     ]
    },
    {
     "name": "stderr",
     "output_type": "stream",
     "text": [
      "100%|██████████████████████████████████████████████████████████| 1/1 [00:00<00:00,  2.20it/s]\n"
     ]
    },
    {
     "name": "stdout",
     "output_type": "stream",
     "text": [
      "34 , 37\n",
      "single bouton\n"
     ]
    },
    {
     "name": "stderr",
     "output_type": "stream",
     "text": [
      "100%|██████████████████████████████████████████████████████████| 1/1 [00:00<00:00,  1.75it/s]\n"
     ]
    },
    {
     "name": "stdout",
     "output_type": "stream",
     "text": [
      "34 , 39\n",
      "single bouton\n"
     ]
    },
    {
     "name": "stderr",
     "output_type": "stream",
     "text": [
      "100%|██████████████████████████████████████████████████████████| 1/1 [00:00<00:00,  2.16it/s]\n"
     ]
    },
    {
     "name": "stdout",
     "output_type": "stream",
     "text": [
      "34 , 41\n",
      "single bouton\n"
     ]
    },
    {
     "name": "stderr",
     "output_type": "stream",
     "text": [
      "100%|██████████████████████████████████████████████████████████| 1/1 [00:00<00:00,  2.15it/s]\n"
     ]
    },
    {
     "name": "stdout",
     "output_type": "stream",
     "text": [
      "34 , 42\n",
      "single bouton\n",
      "34 , 43\n",
      "single bouton\n"
     ]
    },
    {
     "name": "stderr",
     "output_type": "stream",
     "text": [
      "100%|██████████████████████████████████████████████████████████| 1/1 [00:00<00:00,  1.63it/s]\n"
     ]
    },
    {
     "name": "stdout",
     "output_type": "stream",
     "text": [
      "34 , 45\n",
      "single bouton\n",
      "34 , 46\n",
      "single bouton\n",
      "34 , 49\n",
      "single bouton\n",
      "34 , 51\n",
      "single bouton\n",
      "34 , 52\n",
      "single bouton\n",
      "34 , 53\n",
      "single bouton\n"
     ]
    },
    {
     "name": "stderr",
     "output_type": "stream",
     "text": [
      "100%|██████████████████████████████████████████████████████████| 1/1 [00:00<00:00,  1.91it/s]\n"
     ]
    },
    {
     "name": "stdout",
     "output_type": "stream",
     "text": [
      "34 , 56\n",
      "single bouton\n"
     ]
    },
    {
     "name": "stderr",
     "output_type": "stream",
     "text": [
      "100%|██████████████████████████████████████████████████████████| 1/1 [00:00<00:00,  2.00it/s]\n"
     ]
    },
    {
     "name": "stdout",
     "output_type": "stream",
     "text": [
      "34 , 59\n",
      "single bouton\n"
     ]
    },
    {
     "name": "stderr",
     "output_type": "stream",
     "text": [
      "100%|██████████████████████████████████████████████████████████| 1/1 [00:00<00:00,  2.00it/s]\n"
     ]
    },
    {
     "name": "stdout",
     "output_type": "stream",
     "text": [
      "34 , 60\n",
      "single bouton\n",
      "34 , 61\n",
      "at least two boutons\n",
      "bouton 0\n",
      "bouton 1\n",
      "34 , 62\n",
      "single bouton\n"
     ]
    },
    {
     "name": "stderr",
     "output_type": "stream",
     "text": [
      "100%|██████████████████████████████████████████████████████████| 1/1 [00:00<00:00,  2.41it/s]\n"
     ]
    },
    {
     "name": "stdout",
     "output_type": "stream",
     "text": [
      "34 , 65\n",
      "truncated bouton\n",
      "34 , 66\n",
      "truncated bouton\n",
      "34 , 67\n",
      "truncated bouton\n",
      "34 , 68\n",
      "single bouton\n"
     ]
    },
    {
     "name": "stderr",
     "output_type": "stream",
     "text": [
      "100%|██████████████████████████████████████████████████████████| 1/1 [00:00<00:00,  1.44it/s]\n"
     ]
    },
    {
     "name": "stdout",
     "output_type": "stream",
     "text": [
      "34 , 69\n",
      "single bouton\n"
     ]
    },
    {
     "name": "stderr",
     "output_type": "stream",
     "text": [
      "100%|██████████████████████████████████████████████████████████| 1/1 [00:00<00:00,  1.94it/s]\n"
     ]
    },
    {
     "name": "stdout",
     "output_type": "stream",
     "text": [
      "34 , 70\n",
      "single bouton\n",
      "34 , 72\n",
      "single bouton\n"
     ]
    },
    {
     "name": "stderr",
     "output_type": "stream",
     "text": [
      "100%|██████████████████████████████████████████████████████████| 1/1 [00:00<00:00,  1.64it/s]\n"
     ]
    },
    {
     "name": "stdout",
     "output_type": "stream",
     "text": [
      "34 , 73\n",
      "single bouton\n"
     ]
    },
    {
     "name": "stderr",
     "output_type": "stream",
     "text": [
      "100%|██████████████████████████████████████████████████████████| 1/1 [00:00<00:00,  1.57it/s]\n"
     ]
    },
    {
     "name": "stdout",
     "output_type": "stream",
     "text": [
      "34 , 77\n",
      "single bouton\n",
      "34 , 78\n",
      "at least two boutons\n",
      "bouton 0\n",
      "bouton 1\n",
      "34 , 79\n",
      "single bouton\n",
      "34 , 81\n",
      "single bouton\n"
     ]
    },
    {
     "name": "stderr",
     "output_type": "stream",
     "text": [
      "100%|██████████████████████████████████████████████████████████| 1/1 [00:00<00:00,  1.54it/s]\n"
     ]
    },
    {
     "name": "stdout",
     "output_type": "stream",
     "text": [
      "34 , 82\n",
      "single bouton\n"
     ]
    },
    {
     "name": "stderr",
     "output_type": "stream",
     "text": [
      "100%|██████████████████████████████████████████████████████████| 1/1 [00:00<00:00,  1.52it/s]\n"
     ]
    },
    {
     "name": "stdout",
     "output_type": "stream",
     "text": [
      "34 , 83\n",
      "single bouton\n"
     ]
    },
    {
     "name": "stderr",
     "output_type": "stream",
     "text": [
      "100%|██████████████████████████████████████████████████████████| 1/1 [00:00<00:00,  2.37it/s]\n"
     ]
    },
    {
     "name": "stdout",
     "output_type": "stream",
     "text": [
      "34 , 84\n",
      "single bouton\n"
     ]
    },
    {
     "name": "stderr",
     "output_type": "stream",
     "text": [
      "100%|██████████████████████████████████████████████████████████| 1/1 [00:00<00:00,  2.17it/s]\n"
     ]
    },
    {
     "name": "stdout",
     "output_type": "stream",
     "text": [
      "34 , 85\n",
      "single bouton\n",
      "34 , 86\n",
      "single bouton\n"
     ]
    },
    {
     "name": "stderr",
     "output_type": "stream",
     "text": [
      "100%|██████████████████████████████████████████████████████████| 1/1 [00:00<00:00,  2.05it/s]\n"
     ]
    },
    {
     "name": "stdout",
     "output_type": "stream",
     "text": [
      "34 , 87\n",
      "34 , 88\n",
      "single bouton\n"
     ]
    },
    {
     "name": "stderr",
     "output_type": "stream",
     "text": [
      "100%|██████████████████████████████████████████████████████████| 1/1 [00:00<00:00,  2.06it/s]\n"
     ]
    },
    {
     "name": "stdout",
     "output_type": "stream",
     "text": [
      "34 , 89\n",
      "34 , 90\n",
      "single bouton\n"
     ]
    },
    {
     "name": "stderr",
     "output_type": "stream",
     "text": [
      "100%|██████████████████████████████████████████████████████████| 1/1 [00:00<00:00,  1.78it/s]\n"
     ]
    },
    {
     "name": "stdout",
     "output_type": "stream",
     "text": [
      "34 , 91\n",
      "34 , 92\n",
      "single bouton\n",
      "34 , 94\n",
      "single bouton\n",
      "34 , 95\n",
      "single bouton\n"
     ]
    },
    {
     "name": "stderr",
     "output_type": "stream",
     "text": [
      "100%|██████████████████████████████████████████████████████████| 1/1 [00:00<00:00,  1.92it/s]\n"
     ]
    },
    {
     "name": "stdout",
     "output_type": "stream",
     "text": [
      "34 , 96\n",
      "used MFs 77\n",
      "potentially unused MFs 127\n",
      "GT_numMF 158\n",
      "35 , 32\n",
      "single bouton\n"
     ]
    },
    {
     "name": "stderr",
     "output_type": "stream",
     "text": [
      "100%|██████████████████████████████████████████████████████████| 1/1 [00:00<00:00,  1.99it/s]\n"
     ]
    },
    {
     "name": "stdout",
     "output_type": "stream",
     "text": [
      "35 , 33\n",
      "single bouton\n"
     ]
    },
    {
     "name": "stderr",
     "output_type": "stream",
     "text": [
      "100%|██████████████████████████████████████████████████████████| 1/1 [00:00<00:00,  1.39it/s]\n"
     ]
    },
    {
     "name": "stdout",
     "output_type": "stream",
     "text": [
      "35 , 34\n",
      "single bouton\n"
     ]
    },
    {
     "name": "stderr",
     "output_type": "stream",
     "text": [
      "100%|██████████████████████████████████████████████████████████| 1/1 [00:00<00:00,  1.91it/s]\n"
     ]
    },
    {
     "name": "stdout",
     "output_type": "stream",
     "text": [
      "35 , 35\n",
      "single bouton\n"
     ]
    },
    {
     "name": "stderr",
     "output_type": "stream",
     "text": [
      "100%|██████████████████████████████████████████████████████████| 1/1 [00:00<00:00,  1.85it/s]\n"
     ]
    },
    {
     "name": "stdout",
     "output_type": "stream",
     "text": [
      "35 , 37\n",
      "single bouton\n"
     ]
    },
    {
     "name": "stderr",
     "output_type": "stream",
     "text": [
      "100%|██████████████████████████████████████████████████████████| 1/1 [00:00<00:00,  2.01it/s]\n"
     ]
    },
    {
     "name": "stdout",
     "output_type": "stream",
     "text": [
      "35 , 38\n",
      "single bouton\n"
     ]
    },
    {
     "name": "stderr",
     "output_type": "stream",
     "text": [
      "100%|██████████████████████████████████████████████████████████| 1/1 [00:00<00:00,  1.62it/s]\n"
     ]
    },
    {
     "name": "stdout",
     "output_type": "stream",
     "text": [
      "35 , 39\n",
      "single bouton\n",
      "35 , 40\n",
      "single bouton\n"
     ]
    },
    {
     "name": "stderr",
     "output_type": "stream",
     "text": [
      "100%|██████████████████████████████████████████████████████████| 1/1 [00:00<00:00,  1.30it/s]\n"
     ]
    },
    {
     "name": "stdout",
     "output_type": "stream",
     "text": [
      "35 , 42\n",
      "single bouton\n",
      "35 , 44\n",
      "single bouton\n"
     ]
    },
    {
     "name": "stderr",
     "output_type": "stream",
     "text": [
      "100%|██████████████████████████████████████████████████████████| 1/1 [00:00<00:00,  1.95it/s]\n"
     ]
    },
    {
     "name": "stdout",
     "output_type": "stream",
     "text": [
      "35 , 45\n",
      "single bouton\n"
     ]
    },
    {
     "name": "stderr",
     "output_type": "stream",
     "text": [
      "100%|██████████████████████████████████████████████████████████| 1/1 [00:00<00:00,  1.76it/s]\n"
     ]
    },
    {
     "name": "stdout",
     "output_type": "stream",
     "text": [
      "35 , 46\n",
      "single bouton\n",
      "35 , 49\n",
      "single bouton\n"
     ]
    },
    {
     "name": "stderr",
     "output_type": "stream",
     "text": [
      "100%|██████████████████████████████████████████████████████████| 1/1 [00:00<00:00,  1.47it/s]\n"
     ]
    },
    {
     "name": "stdout",
     "output_type": "stream",
     "text": [
      "35 , 50\n",
      "single bouton\n"
     ]
    },
    {
     "name": "stderr",
     "output_type": "stream",
     "text": [
      "100%|██████████████████████████████████████████████████████████| 1/1 [00:00<00:00,  1.50it/s]\n"
     ]
    },
    {
     "name": "stdout",
     "output_type": "stream",
     "text": [
      "35 , 52\n",
      "single bouton\n"
     ]
    },
    {
     "name": "stderr",
     "output_type": "stream",
     "text": [
      "100%|██████████████████████████████████████████████████████████| 1/1 [00:00<00:00,  1.90it/s]\n"
     ]
    },
    {
     "name": "stdout",
     "output_type": "stream",
     "text": [
      "35 , 53\n",
      "single bouton\n"
     ]
    },
    {
     "name": "stderr",
     "output_type": "stream",
     "text": [
      "100%|██████████████████████████████████████████████████████████| 1/1 [00:00<00:00,  1.05it/s]\n"
     ]
    },
    {
     "name": "stdout",
     "output_type": "stream",
     "text": [
      "35 , 55\n",
      "single bouton\n",
      "35 , 56\n",
      "single bouton\n"
     ]
    },
    {
     "name": "stderr",
     "output_type": "stream",
     "text": [
      "100%|██████████████████████████████████████████████████████████| 1/1 [00:00<00:00,  1.52it/s]\n"
     ]
    },
    {
     "name": "stdout",
     "output_type": "stream",
     "text": [
      "35 , 58\n",
      "single bouton\n"
     ]
    },
    {
     "name": "stderr",
     "output_type": "stream",
     "text": [
      "100%|██████████████████████████████████████████████████████████| 1/1 [00:00<00:00,  1.65it/s]\n"
     ]
    },
    {
     "name": "stdout",
     "output_type": "stream",
     "text": [
      "35 , 60\n",
      "single bouton\n",
      "35 , 64\n",
      "35 , 65\n",
      "single bouton\n"
     ]
    },
    {
     "name": "stderr",
     "output_type": "stream",
     "text": [
      "100%|██████████████████████████████████████████████████████████| 1/1 [00:00<00:00,  2.00it/s]\n"
     ]
    },
    {
     "name": "stdout",
     "output_type": "stream",
     "text": [
      "35 , 66\n",
      "35 , 67\n",
      "single bouton\n",
      "35 , 72\n",
      "35 , 73\n",
      "single bouton\n",
      "35 , 76\n",
      "single bouton\n"
     ]
    },
    {
     "name": "stderr",
     "output_type": "stream",
     "text": [
      "100%|██████████████████████████████████████████████████████████| 1/1 [00:00<00:00,  1.77it/s]\n"
     ]
    },
    {
     "name": "stdout",
     "output_type": "stream",
     "text": [
      "35 , 79\n",
      "single bouton\n"
     ]
    },
    {
     "name": "stderr",
     "output_type": "stream",
     "text": [
      "100%|██████████████████████████████████████████████████████████| 1/1 [00:00<00:00,  1.96it/s]\n"
     ]
    },
    {
     "name": "stdout",
     "output_type": "stream",
     "text": [
      "35 , 80\n",
      "single bouton\n"
     ]
    },
    {
     "name": "stderr",
     "output_type": "stream",
     "text": [
      "100%|██████████████████████████████████████████████████████████| 1/1 [00:00<00:00,  1.78it/s]\n"
     ]
    },
    {
     "name": "stdout",
     "output_type": "stream",
     "text": [
      "35 , 81\n",
      "single bouton\n"
     ]
    },
    {
     "name": "stderr",
     "output_type": "stream",
     "text": [
      "100%|██████████████████████████████████████████████████████████| 1/1 [00:00<00:00,  2.11it/s]\n"
     ]
    },
    {
     "name": "stdout",
     "output_type": "stream",
     "text": [
      "35 , 82\n",
      "single bouton\n"
     ]
    },
    {
     "name": "stderr",
     "output_type": "stream",
     "text": [
      "100%|██████████████████████████████████████████████████████████| 1/1 [00:00<00:00,  2.06it/s]\n"
     ]
    },
    {
     "name": "stdout",
     "output_type": "stream",
     "text": [
      "35 , 83\n",
      "single bouton\n"
     ]
    },
    {
     "name": "stderr",
     "output_type": "stream",
     "text": [
      "100%|██████████████████████████████████████████████████████████| 1/1 [00:00<00:00,  1.45it/s]\n"
     ]
    },
    {
     "name": "stdout",
     "output_type": "stream",
     "text": [
      "35 , 84\n",
      "single bouton\n"
     ]
    },
    {
     "name": "stderr",
     "output_type": "stream",
     "text": [
      "100%|██████████████████████████████████████████████████████████| 1/1 [00:00<00:00,  2.50it/s]\n"
     ]
    },
    {
     "name": "stdout",
     "output_type": "stream",
     "text": [
      "35 , 87\n",
      "single bouton\n"
     ]
    },
    {
     "name": "stderr",
     "output_type": "stream",
     "text": [
      "100%|██████████████████████████████████████████████████████████| 1/1 [00:00<00:00,  1.97it/s]\n"
     ]
    },
    {
     "name": "stdout",
     "output_type": "stream",
     "text": [
      "35 , 88\n",
      "35 , 91\n",
      "35 , 92\n",
      "single bouton\n"
     ]
    },
    {
     "name": "stderr",
     "output_type": "stream",
     "text": [
      "100%|██████████████████████████████████████████████████████████| 1/1 [00:00<00:00,  1.93it/s]\n"
     ]
    },
    {
     "name": "stdout",
     "output_type": "stream",
     "text": [
      "35 , 93\n",
      "35 , 94\n",
      "single bouton\n"
     ]
    },
    {
     "name": "stderr",
     "output_type": "stream",
     "text": [
      "100%|██████████████████████████████████████████████████████████| 1/1 [00:01<00:00,  1.34s/it]\n"
     ]
    },
    {
     "name": "stdout",
     "output_type": "stream",
     "text": [
      "35 , 95\n",
      "single bouton\n"
     ]
    },
    {
     "name": "stderr",
     "output_type": "stream",
     "text": [
      "100%|██████████████████████████████████████████████████████████| 1/1 [00:00<00:00,  1.74it/s]\n"
     ]
    },
    {
     "name": "stdout",
     "output_type": "stream",
     "text": [
      "35 , 100\n",
      "single bouton\n"
     ]
    },
    {
     "name": "stderr",
     "output_type": "stream",
     "text": [
      "100%|██████████████████████████████████████████████████████████| 1/1 [00:00<00:00,  1.56it/s]\n"
     ]
    },
    {
     "name": "stdout",
     "output_type": "stream",
     "text": [
      "35 , 101\n",
      "at least two boutons\n",
      "bouton 0\n",
      "bouton 1\n",
      "35 , 102\n",
      "single bouton\n",
      "35 , 103\n",
      "single bouton\n",
      "35 , 104\n",
      "35 , 105\n",
      "at least two boutons\n",
      "bouton 0\n",
      "35 , 107\n",
      "single bouton\n"
     ]
    },
    {
     "name": "stderr",
     "output_type": "stream",
     "text": [
      "100%|██████████████████████████████████████████████████████████| 1/1 [00:00<00:00,  1.58it/s]\n"
     ]
    },
    {
     "name": "stdout",
     "output_type": "stream",
     "text": [
      "35 , 108\n",
      "35 , 112\n",
      "single bouton\n",
      "35 , 116\n",
      "single bouton\n"
     ]
    },
    {
     "name": "stderr",
     "output_type": "stream",
     "text": [
      "100%|██████████████████████████████████████████████████████████| 1/1 [00:00<00:00,  2.34it/s]\n"
     ]
    },
    {
     "name": "stdout",
     "output_type": "stream",
     "text": [
      "35 , 117\n",
      "single bouton\n"
     ]
    },
    {
     "name": "stderr",
     "output_type": "stream",
     "text": [
      "100%|██████████████████████████████████████████████████████████| 1/1 [00:00<00:00,  2.09it/s]\n"
     ]
    },
    {
     "name": "stdout",
     "output_type": "stream",
     "text": [
      "35 , 118\n",
      "single bouton\n",
      "35 , 119\n",
      "single bouton\n",
      "35 , 120\n",
      "single bouton\n"
     ]
    },
    {
     "name": "stderr",
     "output_type": "stream",
     "text": [
      "100%|██████████████████████████████████████████████████████████| 1/1 [00:00<00:00,  2.43it/s]\n"
     ]
    },
    {
     "name": "stdout",
     "output_type": "stream",
     "text": [
      "35 , 121\n",
      "single bouton\n"
     ]
    },
    {
     "name": "stderr",
     "output_type": "stream",
     "text": [
      "100%|██████████████████████████████████████████████████████████| 1/1 [00:00<00:00,  1.76it/s]\n"
     ]
    },
    {
     "name": "stdout",
     "output_type": "stream",
     "text": [
      "35 , 122\n",
      "single bouton\n"
     ]
    },
    {
     "name": "stderr",
     "output_type": "stream",
     "text": [
      "100%|██████████████████████████████████████████████████████████| 1/1 [00:00<00:00,  2.19it/s]\n"
     ]
    },
    {
     "name": "stdout",
     "output_type": "stream",
     "text": [
      "35 , 123\n",
      "35 , 124\n",
      "single bouton\n"
     ]
    },
    {
     "name": "stderr",
     "output_type": "stream",
     "text": [
      "100%|██████████████████████████████████████████████████████████| 1/1 [00:00<00:00,  2.64it/s]\n"
     ]
    },
    {
     "name": "stdout",
     "output_type": "stream",
     "text": [
      "35 , 125\n",
      "35 , 126\n",
      "used MFs 170\n",
      "potentially unused MFs 259\n",
      "GT_numMF 287\n",
      "36 , 33\n",
      "single bouton\n",
      "36 , 35\n",
      "single bouton\n"
     ]
    },
    {
     "name": "stderr",
     "output_type": "stream",
     "text": [
      "100%|██████████████████████████████████████████████████████████| 1/1 [00:00<00:00,  2.71it/s]\n",
      "/opt/anaconda3/envs/allensdk/lib/python3.10/site-packages/sklearn/base.py:1473: ConvergenceWarning:\n",
      "\n",
      "Number of distinct clusters (1) found smaller than n_clusters (2). Possibly due to duplicate points in X.\n",
      "\n"
     ]
    },
    {
     "name": "stdout",
     "output_type": "stream",
     "text": [
      "36 , 36\n",
      "single bouton\n"
     ]
    },
    {
     "name": "stderr",
     "output_type": "stream",
     "text": [
      "100%|██████████████████████████████████████████████████████████| 1/1 [00:00<00:00,  2.41it/s]\n"
     ]
    },
    {
     "name": "stdout",
     "output_type": "stream",
     "text": [
      "36 , 37\n",
      "single bouton\n",
      "36 , 39\n",
      "36 , 40\n",
      "single bouton\n"
     ]
    },
    {
     "name": "stderr",
     "output_type": "stream",
     "text": [
      "100%|██████████████████████████████████████████████████████████| 1/1 [00:00<00:00,  1.87it/s]\n"
     ]
    },
    {
     "name": "stdout",
     "output_type": "stream",
     "text": [
      "36 , 41\n",
      "single bouton\n"
     ]
    },
    {
     "name": "stderr",
     "output_type": "stream",
     "text": [
      "100%|██████████████████████████████████████████████████████████| 1/1 [00:00<00:00,  1.91it/s]\n"
     ]
    },
    {
     "name": "stdout",
     "output_type": "stream",
     "text": [
      "36 , 42\n",
      "single bouton\n"
     ]
    },
    {
     "name": "stderr",
     "output_type": "stream",
     "text": [
      "100%|██████████████████████████████████████████████████████████| 1/1 [00:00<00:00,  2.41it/s]\n"
     ]
    },
    {
     "name": "stdout",
     "output_type": "stream",
     "text": [
      "36 , 43\n",
      "36 , 44\n",
      "single bouton\n",
      "36 , 47\n",
      "single bouton\n"
     ]
    },
    {
     "name": "stderr",
     "output_type": "stream",
     "text": [
      "100%|██████████████████████████████████████████████████████████| 1/1 [00:00<00:00,  1.21it/s]\n"
     ]
    },
    {
     "name": "stdout",
     "output_type": "stream",
     "text": [
      "36 , 48\n",
      "single bouton\n"
     ]
    },
    {
     "name": "stderr",
     "output_type": "stream",
     "text": [
      "100%|██████████████████████████████████████████████████████████| 1/1 [00:00<00:00,  2.08it/s]\n"
     ]
    },
    {
     "name": "stdout",
     "output_type": "stream",
     "text": [
      "36 , 49\n",
      "single bouton\n"
     ]
    },
    {
     "name": "stderr",
     "output_type": "stream",
     "text": [
      "100%|██████████████████████████████████████████████████████████| 1/1 [00:00<00:00,  2.17it/s]\n"
     ]
    },
    {
     "name": "stdout",
     "output_type": "stream",
     "text": [
      "36 , 51\n",
      "single bouton\n"
     ]
    },
    {
     "name": "stderr",
     "output_type": "stream",
     "text": [
      "100%|██████████████████████████████████████████████████████████| 1/1 [00:00<00:00,  2.00it/s]\n"
     ]
    },
    {
     "name": "stdout",
     "output_type": "stream",
     "text": [
      "36 , 53\n",
      "36 , 54\n",
      "single bouton\n"
     ]
    },
    {
     "name": "stderr",
     "output_type": "stream",
     "text": [
      "100%|██████████████████████████████████████████████████████████| 1/1 [00:00<00:00,  1.86it/s]\n"
     ]
    },
    {
     "name": "stdout",
     "output_type": "stream",
     "text": [
      "36 , 55\n",
      "36 , 57\n",
      "36 , 58\n",
      "single bouton\n"
     ]
    },
    {
     "name": "stderr",
     "output_type": "stream",
     "text": [
      "100%|██████████████████████████████████████████████████████████| 1/1 [00:00<00:00,  1.72it/s]\n"
     ]
    },
    {
     "name": "stdout",
     "output_type": "stream",
     "text": [
      "36 , 60\n",
      "single bouton\n",
      "36 , 63\n",
      "single bouton\n"
     ]
    },
    {
     "name": "stderr",
     "output_type": "stream",
     "text": [
      "100%|██████████████████████████████████████████████████████████| 1/1 [00:00<00:00,  1.64it/s]\n"
     ]
    },
    {
     "name": "stdout",
     "output_type": "stream",
     "text": [
      "36 , 66\n",
      "36 , 67\n",
      "single bouton\n"
     ]
    },
    {
     "name": "stderr",
     "output_type": "stream",
     "text": [
      "100%|██████████████████████████████████████████████████████████| 1/1 [00:00<00:00,  1.95it/s]\n"
     ]
    },
    {
     "name": "stdout",
     "output_type": "stream",
     "text": [
      "36 , 68\n",
      "36 , 70\n",
      "single bouton\n"
     ]
    },
    {
     "name": "stderr",
     "output_type": "stream",
     "text": [
      "100%|██████████████████████████████████████████████████████████| 1/1 [00:00<00:00,  1.58it/s]\n"
     ]
    },
    {
     "name": "stdout",
     "output_type": "stream",
     "text": [
      "36 , 71\n",
      "single bouton\n"
     ]
    },
    {
     "name": "stderr",
     "output_type": "stream",
     "text": [
      "100%|██████████████████████████████████████████████████████████| 1/1 [00:00<00:00,  1.72it/s]\n"
     ]
    },
    {
     "name": "stdout",
     "output_type": "stream",
     "text": [
      "36 , 74\n",
      "truncated bouton\n",
      "36 , 75\n",
      "single bouton\n"
     ]
    },
    {
     "name": "stderr",
     "output_type": "stream",
     "text": [
      "100%|██████████████████████████████████████████████████████████| 1/1 [00:00<00:00,  1.70it/s]\n"
     ]
    },
    {
     "name": "stdout",
     "output_type": "stream",
     "text": [
      "36 , 78\n",
      "single bouton\n"
     ]
    },
    {
     "name": "stderr",
     "output_type": "stream",
     "text": [
      "100%|██████████████████████████████████████████████████████████| 1/1 [00:00<00:00,  1.76it/s]\n"
     ]
    },
    {
     "name": "stdout",
     "output_type": "stream",
     "text": [
      "36 , 79\n",
      "single bouton\n"
     ]
    },
    {
     "name": "stderr",
     "output_type": "stream",
     "text": [
      "100%|██████████████████████████████████████████████████████████| 1/1 [00:00<00:00,  1.62it/s]\n"
     ]
    },
    {
     "name": "stdout",
     "output_type": "stream",
     "text": [
      "36 , 80\n",
      "single bouton\n",
      "36 , 95\n",
      "single bouton\n"
     ]
    },
    {
     "name": "stderr",
     "output_type": "stream",
     "text": [
      "100%|██████████████████████████████████████████████████████████| 1/1 [00:00<00:00,  1.73it/s]\n"
     ]
    },
    {
     "name": "stdout",
     "output_type": "stream",
     "text": [
      "36 , 97\n",
      "single bouton\n",
      "36 , 98\n",
      "single bouton\n"
     ]
    },
    {
     "name": "stderr",
     "output_type": "stream",
     "text": [
      "100%|██████████████████████████████████████████████████████████| 1/1 [00:00<00:00,  2.21it/s]\n"
     ]
    },
    {
     "name": "stdout",
     "output_type": "stream",
     "text": [
      "36 , 99\n",
      "single bouton\n"
     ]
    },
    {
     "name": "stderr",
     "output_type": "stream",
     "text": [
      "100%|██████████████████████████████████████████████████████████| 1/1 [00:00<00:00,  1.70it/s]\n"
     ]
    },
    {
     "name": "stdout",
     "output_type": "stream",
     "text": [
      "36 , 100\n",
      "single bouton\n",
      "36 , 106\n",
      "single bouton\n"
     ]
    },
    {
     "name": "stderr",
     "output_type": "stream",
     "text": [
      "100%|██████████████████████████████████████████████████████████| 1/1 [00:00<00:00,  1.74it/s]\n"
     ]
    },
    {
     "name": "stdout",
     "output_type": "stream",
     "text": [
      "36 , 107\n",
      "single bouton\n"
     ]
    },
    {
     "name": "stderr",
     "output_type": "stream",
     "text": [
      "100%|██████████████████████████████████████████████████████████| 1/1 [00:00<00:00,  1.10it/s]\n"
     ]
    },
    {
     "name": "stdout",
     "output_type": "stream",
     "text": [
      "36 , 108\n",
      "36 , 109\n",
      "single bouton\n",
      "36 , 110\n",
      "single bouton\n",
      "36 , 113\n",
      "single bouton\n"
     ]
    },
    {
     "name": "stderr",
     "output_type": "stream",
     "text": [
      "100%|██████████████████████████████████████████████████████████| 1/1 [00:00<00:00,  1.64it/s]\n"
     ]
    },
    {
     "name": "stdout",
     "output_type": "stream",
     "text": [
      "36 , 114\n",
      "single bouton\n"
     ]
    },
    {
     "name": "stderr",
     "output_type": "stream",
     "text": [
      "100%|██████████████████████████████████████████████████████████| 1/1 [00:00<00:00,  1.93it/s]\n"
     ]
    },
    {
     "name": "stdout",
     "output_type": "stream",
     "text": [
      "36 , 115\n",
      "single bouton\n"
     ]
    },
    {
     "name": "stderr",
     "output_type": "stream",
     "text": [
      "100%|██████████████████████████████████████████████████████████| 1/1 [00:00<00:00,  1.52it/s]\n"
     ]
    },
    {
     "name": "stdout",
     "output_type": "stream",
     "text": [
      "36 , 118\n",
      "single bouton\n"
     ]
    },
    {
     "name": "stderr",
     "output_type": "stream",
     "text": [
      "100%|██████████████████████████████████████████████████████████| 1/1 [00:00<00:00,  1.90it/s]\n"
     ]
    },
    {
     "name": "stdout",
     "output_type": "stream",
     "text": [
      "36 , 119\n",
      "single bouton\n"
     ]
    },
    {
     "name": "stderr",
     "output_type": "stream",
     "text": [
      "100%|██████████████████████████████████████████████████████████| 1/1 [00:00<00:00,  1.82it/s]\n"
     ]
    },
    {
     "name": "stdout",
     "output_type": "stream",
     "text": [
      "36 , 120\n",
      "single bouton\n"
     ]
    },
    {
     "name": "stderr",
     "output_type": "stream",
     "text": [
      "100%|██████████████████████████████████████████████████████████| 1/1 [00:00<00:00,  2.13it/s]\n"
     ]
    },
    {
     "name": "stdout",
     "output_type": "stream",
     "text": [
      "36 , 121\n",
      "at least two boutons\n",
      "bouton 0\n"
     ]
    },
    {
     "name": "stderr",
     "output_type": "stream",
     "text": [
      "100%|██████████████████████████████████████████████████████████| 1/1 [00:00<00:00,  1.64it/s]\n"
     ]
    },
    {
     "name": "stdout",
     "output_type": "stream",
     "text": [
      "bouton 1\n",
      "36 , 122\n",
      "36 , 123\n",
      "36 , 124\n",
      "single bouton\n"
     ]
    },
    {
     "name": "stderr",
     "output_type": "stream",
     "text": [
      "100%|██████████████████████████████████████████████████████████| 1/1 [00:00<00:00,  2.29it/s]\n"
     ]
    },
    {
     "name": "stdout",
     "output_type": "stream",
     "text": [
      "36 , 127\n",
      "single bouton\n"
     ]
    },
    {
     "name": "stderr",
     "output_type": "stream",
     "text": [
      "100%|██████████████████████████████████████████████████████████| 1/1 [00:00<00:00,  1.99it/s]\n"
     ]
    },
    {
     "name": "stdout",
     "output_type": "stream",
     "text": [
      "36 , 128\n",
      "single bouton\n"
     ]
    },
    {
     "name": "stderr",
     "output_type": "stream",
     "text": [
      "100%|██████████████████████████████████████████████████████████| 1/1 [00:00<00:00,  1.80it/s]\n"
     ]
    },
    {
     "name": "stdout",
     "output_type": "stream",
     "text": [
      "36 , 129\n",
      "single bouton\n",
      "36 , 131\n",
      "single bouton\n"
     ]
    },
    {
     "name": "stderr",
     "output_type": "stream",
     "text": [
      "100%|██████████████████████████████████████████████████████████| 1/1 [00:00<00:00,  1.61it/s]\n"
     ]
    },
    {
     "name": "stdout",
     "output_type": "stream",
     "text": [
      "36 , 132\n",
      "36 , 139\n",
      "single bouton\n",
      "36 , 140\n",
      "single bouton\n"
     ]
    },
    {
     "name": "stderr",
     "output_type": "stream",
     "text": [
      "100%|██████████████████████████████████████████████████████████| 1/1 [00:00<00:00,  1.30it/s]\n"
     ]
    },
    {
     "name": "stdout",
     "output_type": "stream",
     "text": [
      "36 , 145\n",
      "single bouton\n",
      "36 , 146\n",
      "single bouton\n"
     ]
    },
    {
     "name": "stderr",
     "output_type": "stream",
     "text": [
      "100%|██████████████████████████████████████████████████████████| 1/1 [00:00<00:00,  1.76it/s]\n"
     ]
    },
    {
     "name": "stdout",
     "output_type": "stream",
     "text": [
      "36 , 150\n",
      "single bouton\n",
      "36 , 152\n",
      "at least two boutons\n",
      "bouton 0\n",
      "bouton 1\n",
      "36 , 153\n",
      "single bouton\n"
     ]
    },
    {
     "name": "stderr",
     "output_type": "stream",
     "text": [
      "100%|██████████████████████████████████████████████████████████| 1/1 [00:00<00:00,  2.15it/s]\n"
     ]
    },
    {
     "name": "stdout",
     "output_type": "stream",
     "text": [
      "36 , 156\n",
      "single bouton\n"
     ]
    },
    {
     "name": "stderr",
     "output_type": "stream",
     "text": [
      "100%|██████████████████████████████████████████████████████████| 1/1 [00:00<00:00,  1.81it/s]\n"
     ]
    },
    {
     "name": "stdout",
     "output_type": "stream",
     "text": [
      "36 , 157\n",
      "single bouton\n"
     ]
    },
    {
     "name": "stderr",
     "output_type": "stream",
     "text": [
      "100%|██████████████████████████████████████████████████████████| 1/1 [00:00<00:00,  1.87it/s]\n"
     ]
    },
    {
     "name": "stdout",
     "output_type": "stream",
     "text": [
      "36 , 160\n",
      "single bouton\n"
     ]
    },
    {
     "name": "stderr",
     "output_type": "stream",
     "text": [
      "100%|██████████████████████████████████████████████████████████| 1/1 [00:00<00:00,  2.02it/s]\n"
     ]
    },
    {
     "name": "stdout",
     "output_type": "stream",
     "text": [
      "36 , 161\n",
      "single bouton\n"
     ]
    },
    {
     "name": "stderr",
     "output_type": "stream",
     "text": [
      "100%|██████████████████████████████████████████████████████████| 1/1 [00:00<00:00,  2.25it/s]\n"
     ]
    },
    {
     "name": "stdout",
     "output_type": "stream",
     "text": [
      "36 , 162\n",
      "truncated bouton\n",
      "36 , 163\n",
      "single bouton\n"
     ]
    },
    {
     "name": "stderr",
     "output_type": "stream",
     "text": [
      "100%|██████████████████████████████████████████████████████████| 1/1 [00:00<00:00,  1.99it/s]\n"
     ]
    },
    {
     "name": "stdout",
     "output_type": "stream",
     "text": [
      "36 , 164\n",
      "single bouton\n",
      "36 , 165\n",
      "single bouton\n",
      "36 , 166\n",
      "single bouton\n"
     ]
    },
    {
     "name": "stderr",
     "output_type": "stream",
     "text": [
      "100%|██████████████████████████████████████████████████████████| 1/1 [00:00<00:00,  1.83it/s]\n"
     ]
    },
    {
     "name": "stdout",
     "output_type": "stream",
     "text": [
      "36 , 169\n",
      "single bouton\n"
     ]
    },
    {
     "name": "stderr",
     "output_type": "stream",
     "text": [
      "100%|██████████████████████████████████████████████████████████| 1/1 [00:00<00:00,  1.74it/s]\n"
     ]
    },
    {
     "name": "stdout",
     "output_type": "stream",
     "text": [
      "36 , 170\n",
      "36 , 171\n",
      "single bouton\n"
     ]
    },
    {
     "name": "stderr",
     "output_type": "stream",
     "text": [
      "100%|██████████████████████████████████████████████████████████| 1/1 [00:00<00:00,  1.65it/s]\n"
     ]
    },
    {
     "name": "stdout",
     "output_type": "stream",
     "text": [
      "36 , 172\n",
      "single bouton\n"
     ]
    },
    {
     "name": "stderr",
     "output_type": "stream",
     "text": [
      "100%|██████████████████████████████████████████████████████████| 1/1 [00:00<00:00,  2.04it/s]\n"
     ]
    },
    {
     "name": "stdout",
     "output_type": "stream",
     "text": [
      "36 , 174\n",
      "single bouton\n"
     ]
    },
    {
     "name": "stderr",
     "output_type": "stream",
     "text": [
      "100%|██████████████████████████████████████████████████████████| 1/1 [00:00<00:00,  1.73it/s]\n"
     ]
    },
    {
     "name": "stdout",
     "output_type": "stream",
     "text": [
      "36 , 175\n",
      "single bouton\n"
     ]
    },
    {
     "name": "stderr",
     "output_type": "stream",
     "text": [
      "100%|██████████████████████████████████████████████████████████| 1/1 [00:00<00:00,  2.08it/s]\n"
     ]
    },
    {
     "name": "stdout",
     "output_type": "stream",
     "text": [
      "36 , 181\n",
      "single bouton\n"
     ]
    },
    {
     "name": "stderr",
     "output_type": "stream",
     "text": [
      "100%|██████████████████████████████████████████████████████████| 1/1 [00:00<00:00,  1.99it/s]\n"
     ]
    },
    {
     "name": "stdout",
     "output_type": "stream",
     "text": [
      "36 , 183\n",
      "single bouton\n"
     ]
    },
    {
     "name": "stderr",
     "output_type": "stream",
     "text": [
      "100%|██████████████████████████████████████████████████████████| 1/1 [00:00<00:00,  1.81it/s]\n"
     ]
    },
    {
     "name": "stdout",
     "output_type": "stream",
     "text": [
      "36 , 184\n",
      "single bouton\n"
     ]
    },
    {
     "name": "stderr",
     "output_type": "stream",
     "text": [
      "100%|██████████████████████████████████████████████████████████| 1/1 [00:00<00:00,  1.50it/s]\n"
     ]
    },
    {
     "name": "stdout",
     "output_type": "stream",
     "text": [
      "36 , 186\n",
      "single bouton\n"
     ]
    },
    {
     "name": "stderr",
     "output_type": "stream",
     "text": [
      "100%|██████████████████████████████████████████████████████████| 1/1 [00:00<00:00,  2.12it/s]\n"
     ]
    },
    {
     "name": "stdout",
     "output_type": "stream",
     "text": [
      "36 , 194\n",
      "36 , 198\n",
      "single bouton\n"
     ]
    },
    {
     "name": "stderr",
     "output_type": "stream",
     "text": [
      "100%|██████████████████████████████████████████████████████████| 1/1 [00:00<00:00,  2.15it/s]\n"
     ]
    },
    {
     "name": "stdout",
     "output_type": "stream",
     "text": [
      "36 , 199\n",
      "single bouton\n",
      "36 , 202\n",
      "single bouton\n"
     ]
    },
    {
     "name": "stderr",
     "output_type": "stream",
     "text": [
      "100%|██████████████████████████████████████████████████████████| 1/1 [00:00<00:00,  2.16it/s]\n"
     ]
    },
    {
     "name": "stdout",
     "output_type": "stream",
     "text": [
      "36 , 204\n",
      "single bouton\n",
      "36 , 205\n",
      "single bouton\n"
     ]
    },
    {
     "name": "stderr",
     "output_type": "stream",
     "text": [
      "100%|██████████████████████████████████████████████████████████| 1/1 [00:00<00:00,  1.89it/s]\n"
     ]
    },
    {
     "name": "stdout",
     "output_type": "stream",
     "text": [
      "36 , 206\n",
      "single bouton\n"
     ]
    },
    {
     "name": "stderr",
     "output_type": "stream",
     "text": [
      "100%|██████████████████████████████████████████████████████████| 1/1 [00:00<00:00,  1.79it/s]\n"
     ]
    },
    {
     "name": "stdout",
     "output_type": "stream",
     "text": [
      "36 , 207\n",
      "single bouton\n",
      "36 , 208\n",
      "single bouton\n"
     ]
    },
    {
     "name": "stderr",
     "output_type": "stream",
     "text": [
      "100%|██████████████████████████████████████████████████████████| 1/1 [00:00<00:00,  2.17it/s]\n"
     ]
    },
    {
     "name": "stdout",
     "output_type": "stream",
     "text": [
      "36 , 209\n",
      "single bouton\n",
      "36 , 212\n",
      "single bouton\n"
     ]
    },
    {
     "name": "stderr",
     "output_type": "stream",
     "text": [
      "100%|██████████████████████████████████████████████████████████| 1/1 [00:00<00:00,  1.87it/s]\n"
     ]
    },
    {
     "name": "stdout",
     "output_type": "stream",
     "text": [
      "36 , 217\n",
      "single bouton\n",
      "36 , 218\n",
      "single bouton\n"
     ]
    },
    {
     "name": "stderr",
     "output_type": "stream",
     "text": [
      "100%|██████████████████████████████████████████████████████████| 1/1 [00:00<00:00,  2.13it/s]\n"
     ]
    },
    {
     "name": "stdout",
     "output_type": "stream",
     "text": [
      "36 , 219\n",
      "single bouton\n",
      "36 , 221\n",
      "single bouton\n",
      "36 , 227\n",
      "single bouton\n",
      "36 , 236\n",
      "36 , 238\n",
      "single bouton\n"
     ]
    },
    {
     "name": "stderr",
     "output_type": "stream",
     "text": [
      "100%|██████████████████████████████████████████████████████████| 1/1 [00:00<00:00,  1.88it/s]\n"
     ]
    },
    {
     "name": "stdout",
     "output_type": "stream",
     "text": [
      "36 , 244\n",
      "single bouton\n"
     ]
    },
    {
     "name": "stderr",
     "output_type": "stream",
     "text": [
      "100%|██████████████████████████████████████████████████████████| 1/1 [00:00<00:00,  1.76it/s]\n"
     ]
    },
    {
     "name": "stdout",
     "output_type": "stream",
     "text": [
      "36 , 245\n",
      "single bouton\n"
     ]
    },
    {
     "name": "stderr",
     "output_type": "stream",
     "text": [
      "100%|██████████████████████████████████████████████████████████| 1/1 [00:00<00:00,  1.59it/s]\n"
     ]
    },
    {
     "name": "stdout",
     "output_type": "stream",
     "text": [
      "36 , 249\n",
      "single bouton\n"
     ]
    },
    {
     "name": "stderr",
     "output_type": "stream",
     "text": [
      "100%|██████████████████████████████████████████████████████████| 1/1 [00:00<00:00,  1.83it/s]\n"
     ]
    },
    {
     "name": "stdout",
     "output_type": "stream",
     "text": [
      "36 , 250\n",
      "single bouton\n"
     ]
    },
    {
     "name": "stderr",
     "output_type": "stream",
     "text": [
      "100%|██████████████████████████████████████████████████████████| 1/1 [00:00<00:00,  1.78it/s]\n"
     ]
    },
    {
     "name": "stdout",
     "output_type": "stream",
     "text": [
      "36 , 251\n",
      "single bouton\n"
     ]
    },
    {
     "name": "stderr",
     "output_type": "stream",
     "text": [
      "100%|██████████████████████████████████████████████████████████| 1/1 [00:00<00:00,  1.45it/s]\n"
     ]
    },
    {
     "name": "stdout",
     "output_type": "stream",
     "text": [
      "36 , 252\n",
      "single bouton\n",
      "36 , 253\n",
      "36 , 254\n",
      "single bouton\n"
     ]
    },
    {
     "name": "stderr",
     "output_type": "stream",
     "text": [
      "100%|██████████████████████████████████████████████████████████| 1/1 [00:00<00:00,  1.95it/s]\n"
     ]
    },
    {
     "name": "stdout",
     "output_type": "stream",
     "text": [
      "36 , 258\n",
      "used MFs 109\n",
      "potentially unused MFs 69\n",
      "GT_numMF 101\n",
      "truncated bouton\n",
      "37 , 38\n",
      "single bouton\n",
      "37 , 42\n",
      "single bouton\n",
      "37 , 45\n",
      "single bouton\n",
      "37 , 47\n",
      "single bouton\n"
     ]
    },
    {
     "name": "stderr",
     "output_type": "stream",
     "text": [
      "100%|██████████████████████████████████████████████████████████| 1/1 [00:00<00:00,  1.50it/s]\n"
     ]
    },
    {
     "name": "stdout",
     "output_type": "stream",
     "text": [
      "37 , 51\n",
      "single bouton\n",
      "37 , 55\n",
      "at least two boutons\n",
      "bouton 0\n"
     ]
    },
    {
     "name": "stderr",
     "output_type": "stream",
     "text": [
      "100%|██████████████████████████████████████████████████████████| 1/1 [00:00<00:00,  2.06it/s]\n"
     ]
    },
    {
     "name": "stdout",
     "output_type": "stream",
     "text": [
      "bouton 1\n",
      "37 , 57\n",
      "37 , 58\n",
      "single bouton\n",
      "37 , 63\n",
      "37 , 65\n",
      "37 , 66\n",
      "---------------------------------\n",
      "Done!\n"
     ]
    }
   ],
   "source": [
    "# get missing boutons for large pyr cells with GT_numMF > 100\n",
    "\n",
    "\n",
    "mesh_dir = '../mesh_data/'\n",
    "\n",
    "def extract_bouton_by_voxel_density(latest_mf, latest_root_PC, vol, syn_coords, radius, syn_sv_id, mm):\n",
    "    mf_pyr_syn_thresh = 1\n",
    "    dsyn_outlier_thresh = 4 #[microns]\n",
    "    n_cluster_syn = 1\n",
    "    result = []\n",
    "    mesh_dir = '../mesh_data/'\n",
    "\n",
    "    if syn_coords.shape[0] > mf_pyr_syn_thresh:\n",
    "        syn_coords_microns = syn_coords * np.array([18,18,45]) / 1000\n",
    "        syn_cluster_center_microns = cluster_center(syn_coords_microns)[0]  \n",
    " \n",
    "        # count number of syn too far away from the center of all syn \n",
    "        # if there are such syn, then this neuron makes more than one bouton on target cell\n",
    "        syn_cluster_center_vx = syn_cluster_center_microns / np.array([18,18,45]) * 1000\n",
    "        n_outlier = 0\n",
    "        for k in range(0, len(syn_coords_microns)):\n",
    "            dist = distance.euclidean(syn_coords_microns[k], syn_cluster_center_microns)\n",
    "            if dist > dsyn_outlier_thresh:\n",
    "                n_outlier += 1\n",
    "                \n",
    "        if n_outlier > 3:  # at least two boutons\n",
    "            #return ['double_bouton_candidate',latest_mf, latest_root_PC, this_syn_center ]           \n",
    "            score = get_cluster_scores(syn_coords_microns, 3)\n",
    "            n_cluster_syn, gain = decide_number_of_clusters(score)             \n",
    "            syn_cluster_labels, syn_cluster_centers, _ = cluster_vertices_kmeans(syn_coords_microns, n_cluster_syn)\n",
    "            unique_syn_labels, counts = np.unique(syn_cluster_labels, return_counts=True)\n",
    "            valid_syn_clusters = unique_syn_labels[counts>mf_pyr_syn_thresh]\n",
    "            print('at least two boutons')\n",
    "            for i in range(0, n_cluster_syn):\n",
    "                if i in valid_syn_clusters:\n",
    "                    syn_cluster_points = syn_coords_microns[syn_cluster_labels == i]\n",
    "                    this_syn_center_vx = syn_cluster_centers[i] / np.array([18,18,45]) * 1000\n",
    "                    print('bouton', i)\n",
    "                    if (this_syn_center_vx[2] > 200) and (this_syn_center_vx[2] < 2040):\n",
    "                        if len(syn_cluster_points) < 24:\n",
    "                            bbx=get_bbox_for_syn_cluster(syn_cluster_points, vol, 150)\n",
    "                        elif len(syn_cluster_points) < 36:\n",
    "                            bbx=get_bbox_for_syn_cluster(syn_cluster_points, vol, 200)\n",
    "                        else:\n",
    "                            bbx=get_bbox_for_syn_cluster(syn_cluster_points, vol, 250)\n",
    "                        bbox_nm = np.array([bbx.minpt.x, bbx.maxpt.x, bbx.minpt.y, bbx.maxpt.y, bbx.minpt.z, bbx.maxpt.z]) * np.array([18,18,18,18,45,45])\n",
    "                        try:\n",
    "                            mesh = mm.mesh(seg_id = latest_mf, remove_duplicate_vertices=True)\n",
    "                        except:\n",
    "                            print('no mesh')\n",
    "                            return ['no mesh available', latest_mf, latest_root_PC, this_syn_center_vx]\n",
    "\n",
    "                        vertices_bbox, faces_bbox = get_mesh_in_bbox(mesh.vertices, mesh.faces, bbox_nm)\n",
    "                        vertices_bbox_microns = vertices_bbox/1000\n",
    "                        try:\n",
    "                            vertices_bouton,vertices_nonbouton,counts,counts_thresholded = divide_vertices_by_count_neighboring_voxels(vertices_bbox_microns, radius)\n",
    "                            vertices_bouton_vx = np.round(vertices_bouton / np.array([18,18,45]) * 1000, decimals=3)\n",
    "                            bouton_bbox = copy.deepcopy(bbx)\n",
    "                            bouton_bbox.minpt.x, bouton_bbox.minpt.y, bouton_bbox.minpt.z = vertices_bouton_vx.min(axis=0)\n",
    "                            bouton_bbox.maxpt.x, bouton_bbox.maxpt.y, bouton_bbox.maxpt.z = vertices_bouton_vx.max(axis=0)  \n",
    "                            seg_bouton = vol.download(bbox=bouton_bbox, label=latest_mf) \n",
    "                            seg_bouton = np.squeeze(seg_bouton, axis=-1)\n",
    "                            bouton_vol = np.round(np.sum(seg_bouton) * 0.018 * 0.018 * 0.045, decimals=4)\n",
    "\n",
    "                            result.append(['double_bouton',latest_mf, latest_root_PC, this_syn_center_vx, len(syn_coords), bouton_vol, bouton_bbox, syn_sv_id])\n",
    "                        \n",
    "                            #save_bouton_split_result_3D_seg(seg_bouton, latest_mf, latest_root_PC)\n",
    "                            #save_bouton_split_result_3D_mesh(vertices_bbox_microns, counts_thresholded, latest_mf, latest_root_PC)\n",
    "                        except:\n",
    "                            print('likely to be not MF')\n",
    "                            result.append(['not MF',latest_mf, latest_root_PC, this_syn_center_vx, len(syn_coords), syn_sv_id])\n",
    "       \n",
    "        else: \n",
    "            if (syn_cluster_center_vx[2] > 200) and (syn_cluster_center_vx[2] < 2040):\n",
    "                print('single bouton')\n",
    "                if len(syn_coords_microns) < 24:\n",
    "                    bbx=get_bbox_for_syn_cluster(syn_coords_microns, vol, 300)\n",
    "                elif len(syn_coords_microns) < 36:\n",
    "                    bbx=get_bbox_for_syn_cluster(syn_coords_microns, vol, 400)\n",
    "                else:\n",
    "                    bbx=get_bbox_for_syn_cluster(syn_coords_microns, vol, 500)\n",
    "                bbox_nm = np.array([bbx.minpt.x, bbx.maxpt.x, bbx.minpt.y, bbx.maxpt.y, bbx.minpt.z, bbx.maxpt.z]) * np.array([18,18,18,18,45,45])\n",
    "                #syn_center_bbox_vx = this_syn_center-[bbx.minpt.x, bbx.minpt.y, bbx.minpt.z]\n",
    "                try:\n",
    "                    mesh = mm.mesh(seg_id = latest_mf, remove_duplicate_vertices=True)\n",
    "                except:\n",
    "                    print('no mesh')\n",
    "                    return ['no mesh available', latest_mf, latest_root_PC, syn_cluster_center_vx]\n",
    "\n",
    "                vertices_bbox, faces_bbox = get_mesh_in_bbox(mesh.vertices, mesh.faces, bbox_nm)\n",
    "                vertices_bbox_microns = vertices_bbox/1000\n",
    "                vertices_bouton,vertices_nonbouton,counts,counts_thresholded = divide_vertices_by_count_neighboring_voxels(vertices_bbox_microns, radius)\n",
    "                vertices_bouton_vx = np.round(vertices_bouton / np.array([18,18,45]) * 1000, decimals=3)\n",
    "                bouton_bbox = copy.deepcopy(bbx)\n",
    "                bouton_bbox.minpt.x, bouton_bbox.minpt.y, bouton_bbox.minpt.z = vertices_bouton_vx.min(axis=0)\n",
    "                bouton_bbox.maxpt.x, bouton_bbox.maxpt.y, bouton_bbox.maxpt.z = vertices_bouton_vx.max(axis=0)  \n",
    "                seg_bouton = vol.download(bbox=bouton_bbox, label=latest_mf)  \n",
    "                seg_bouton = np.squeeze(seg_bouton, axis=-1)\n",
    "                bouton_vol = np.round(np.sum(seg_bouton) * 0.018 * 0.018 * 0.045, decimals=4)\n",
    "                    \n",
    "                result.append([latest_mf, latest_root_PC, syn_cluster_center_vx, len(syn_coords), bouton_vol, bouton_bbox, syn_sv_id])\n",
    "                \n",
    "                #save_bouton_split_result_3D_seg(seg_bouton, latest_mf, latest_root_PC)\n",
    "                #save_bouton_split_result_3D_mesh(vertices_bbox_microns, counts_thresholded, latest_mf, latest_root_PC)\n",
    "        \n",
    "            else:\n",
    "                print('truncated bouton')\n",
    "            \n",
    "            \n",
    "        return result\n",
    "\n",
    "\n",
    "mf_group_pycid = [item[0] for item in mf_group]\n",
    "radius = 2.5\n",
    "#results = []\n",
    "for i in range(32,len(large_pyc)):\n",
    "#for i in range(0, 1):\n",
    "    aa = mfpc_df.loc[mfpc_df['segid_0114'] == large_pyc[i], 'GT_MF'].tolist()\n",
    "    if len(aa) == 0:\n",
    "        idx_latest=latest_roots_PC.index(large_pyc[i])\n",
    "        if client.chunkedgraph.get_latest_roots(mfpc_df['segid_0114'].values[idx_latest]) == large_pyc[i]:\n",
    "            aa = mfpc_df.loc[mfpc_df['segid_0114'] == mfpc_df['segid_0114'].values[idx_latest],'GT_MF'].tolist()\n",
    "        else:\n",
    "            print('cannot find the correnspoding row from sheet')\n",
    "    mf_gt_id_old_temp = [int(x.strip()) for x in aa[0].split(',')]\n",
    "    mf_gt_id_old = [num for num in mf_gt_id_old_temp if not str(num).startswith('7')]\n",
    "    mf_gt_id_new = []\n",
    "    for j in range(0,len(mf_gt_id_old)):\n",
    "        mf_gt_id_new.append(client.chunkedgraph.get_latest_roots(mf_gt_id_old[j]))\n",
    "    mf_new_flat = np.concatenate(mf_gt_id_new).tolist()\n",
    "    if large_pyc[i] in mf_group_pycid:\n",
    "        idx_mf_group = mf_group_pycid.index(large_pyc[i])\n",
    "    else:\n",
    "        large_pyc_latest = client.chunkedgraph.suggest_latest_roots(large_pyc[i])\n",
    "        idx_mf_group = mf_group_pycid.index(large_pyc_latest)\n",
    "        \n",
    "    latest_roots_mfs_used = mf_group[idx_mf_group][1]\n",
    "    latest_roots_mfs_unused = [x for x in mf_new_flat if x not in latest_roots_mfs_used]\n",
    "    print('used MFs', len(latest_roots_mfs_used))\n",
    "    print('potentially unused MFs', len(latest_roots_mfs_unused))\n",
    "    print('GT_numMF', large_numMF[i])\n",
    "    \n",
    "    latest_root_mfs = latest_roots_mfs_unused\n",
    "    latest_root_pc = large_pyc[i]\n",
    "    \n",
    "    syn = client.materialize.synapse_query(pre_ids=latest_root_mfs, post_ids=latest_root_pc, bounding_box=None, bounding_box_column='post_pt_position', \n",
    "                timestamp=None, remove_autapses=True, include_zeros=False, limit=None, offset=None, \n",
    "                split_positions=False, desired_resolution=[18,18,45], materialization_version=None, \n",
    "                synapse_table='synapses_ca3_v1', datastack_name='zheng_ca3', metadata=True) \n",
    "#        for j in range(0,1):\n",
    "    for j in range(32, len(latest_root_mfs)):\n",
    "        if i==32 and j <= 48:   # to carry on from interrupted previous run\n",
    "            continue\n",
    "        time.sleep(0.5)\n",
    "        mm = trimesh_io.MeshMeta(cv_path='gs://zheng_mouse_hippocampus_production/v2/seg_m153',\n",
    "                                disk_cache_path=mesh_dir, cache_size=20)\n",
    "        syn_center_pos = syn.loc[syn['pre_pt_root_id'] == latest_root_mfs[j], ['pre_pt_position']].values\n",
    "        if len(syn_center_pos) == 0:\n",
    "            latest_root_mfs[j] = client.chunkedgraph.suggest_latest_roots(latest_root_mfs[j])\n",
    "            syn2 = client.materialize.synapse_query(pre_ids=latest_root_mfs[j], post_ids=latest_root_pc, bounding_box=None, bounding_box_column='post_pt_position', \n",
    "                timestamp=None, remove_autapses=True, include_zeros=False, limit=None, offset=None, \n",
    "                split_positions=False, desired_resolution=[18,18,45], materialization_version=None, \n",
    "                synapse_table='synapses_ca3_v1', datastack_name='zheng_ca3', metadata=True) \n",
    "            if len(syn2) > 0:\n",
    "                syn_center_pos = syn2.loc[syn2['pre_pt_root_id'] == latest_root_mfs[j], ['pre_pt_position']].values\n",
    "                syn_sv_ids = syn2.loc[syn2['pre_pt_root_id'] == latest_root_mfs[j], ['pre_pt_supervoxel_id']].values\n",
    "                \n",
    "                if len(syn_sv_ids) > 2:\n",
    "                    syn_sv_id3 = [syn_sv_ids[0][0],syn_sv_ids[1][0],syn_sv_ids[2][0]]\n",
    "                else:\n",
    "                    syn_sv_id3 = [syn_sv_ids[0][0]]\n",
    "            else:\n",
    "                continue\n",
    "        else:\n",
    "            syn_sv_ids = syn.loc[syn['pre_pt_root_id'] == latest_root_mfs[j], ['pre_pt_supervoxel_id']].values\n",
    "            if len(syn_sv_ids) > 2:\n",
    "                syn_sv_id3 = [syn_sv_ids[0][0],syn_sv_ids[1][0],syn_sv_ids[2][0]]\n",
    "            else:\n",
    "                syn_sv_id3 = [syn_sv_ids[0][0]]\n",
    "                \n",
    "\n",
    "        #mf_id_flat_seg_m153 = get_flat_seg_id_from_sv(syn_sv_ids, vol)\n",
    "        mf_id_flat_seg_m153 = get_flat_seg_id_from_coord(syn_center_pos, vol, latest_roots_PC)\n",
    "        syn_coords = np.array([arr[0] for arr in syn_center_pos])            \n",
    "\n",
    "        if mf_id_flat_seg_m153 == -1:\n",
    "            print('Cannot locate MF seg from flat segmentation, Trying latest segmentation...')\n",
    "            mm = trimesh_io.MeshMeta(cv_path='graphene://https://minnie.microns-daf.com/segmentation/table/zheng_ca3',\n",
    "                                    disk_cache_path=mesh_dir, cache_size=20)\n",
    "            mf_id_flat_seg_m153 = latest_root_mfs[j]      \n",
    "            try:\n",
    "                result = extract_bouton_by_voxel_density(mf_id_flat_seg_m153, latest_root_pc, vol, syn_coords, radius, syn_sv_id3, mm)\n",
    "                results.append(result)\n",
    "                print(i ,',', j)\n",
    "\n",
    "            except:\n",
    "                print('Still cannot locate MF')\n",
    "                results.append(['Cannot locate MF using syn coords and supervoxels'])\n",
    "                print(i ,',', j)\n",
    "                print(mf_id_flat_seg_m153)\n",
    "                print(latest_root_pc) \n",
    "\n",
    "        else:\n",
    "            result = extract_bouton_by_voxel_density(mf_id_flat_seg_m153, latest_root_pc, vol, syn_coords, radius, syn_sv_id3, mm)\n",
    "            results.append(result)\n",
    "            print(i ,',', j)\n",
    "        \n",
    "    \n",
    "print('---------------------------------')\n",
    "print('Done!')\n",
    "\n",
    "#with open(\"./variables/mf_bouton_split_best_250302_additional.pkl\", \"wb\") as file:\n",
    "#    pickle.dump(results, file)"
   ]
  },
  {
   "cell_type": "code",
   "execution_count": 212,
   "id": "9862e1cd",
   "metadata": {},
   "outputs": [],
   "source": []
  },
  {
   "cell_type": "code",
   "execution_count": 215,
   "id": "a3e360b2",
   "metadata": {},
   "outputs": [
    {
     "name": "stdout",
     "output_type": "stream",
     "text": [
      "1494\n"
     ]
    }
   ],
   "source": [
    "results = [item for item in results if item != None]\n",
    "print(len(results))\n",
    "with open(\"./variables/mf_bouton_split_best_250302_additional.pkl\", \"wb\") as file:\n",
    "    pickle.dump(results, file)"
   ]
  },
  {
   "cell_type": "code",
   "execution_count": 170,
   "id": "099cf401",
   "metadata": {},
   "outputs": [
    {
     "name": "stdout",
     "output_type": "stream",
     "text": [
      "143\n"
     ]
    }
   ],
   "source": [
    "# redo MFs with double/triple boutons as these require smaller bbx\n",
    "\n",
    "colors = ['green','blue','yellow','purple','cyan',\"black\"]\n",
    "mesh_dir = '../mesh_data/'\n",
    "\n",
    "def extract_bouton_by_voxel_density2(latest_mf, latest_root_PC, vol, syn_coords, radius, syn_sv_id, mm):\n",
    "    mf_pyr_syn_thresh = 3\n",
    "    dsyn_outlier_thresh = 4 #[microns]\n",
    "    n_cluster_syn = 1\n",
    "    result = []\n",
    "    mesh_dir = '../mesh_data/'\n",
    "\n",
    "    if syn_coords.shape[0] > mf_pyr_syn_thresh:\n",
    "        syn_coords_microns = syn_coords * np.array([18,18,45]) / 1000\n",
    "        syn_cluster_center_microns = cluster_center(syn_coords_microns)[0]  \n",
    " \n",
    "        # count number of syn too far away from the center of all syn \n",
    "        # if there are such syn, then this neuron makes more than one bouton on target cell\n",
    "        syn_cluster_center_vx = syn_cluster_center_microns / np.array([18,18,45]) * 1000\n",
    "        n_outlier = 0\n",
    "        for k in range(0, len(syn_coords_microns)):\n",
    "            dist = distance.euclidean(syn_coords_microns[k], syn_cluster_center_microns)\n",
    "            if dist > dsyn_outlier_thresh:\n",
    "                n_outlier += 1\n",
    "                \n",
    "        if n_outlier > 4:  # at least two boutons\n",
    "            #return ['double_bouton_candidate',latest_mf, latest_root_PC, this_syn_center ]           \n",
    "            score = get_cluster_scores(syn_coords_microns, 3)\n",
    "            n_cluster_syn, gain = decide_number_of_clusters(score)             \n",
    "            syn_cluster_labels, syn_cluster_centers, _ = cluster_vertices_kmeans(syn_coords_microns, n_cluster_syn)\n",
    "            unique_syn_labels, counts = np.unique(syn_cluster_labels, return_counts=True)\n",
    "            valid_syn_clusters = unique_syn_labels[counts>mf_pyr_syn_thresh]\n",
    "            print('at least two boutons')\n",
    "            for i in range(0, n_cluster_syn):\n",
    "                if i in valid_syn_clusters:\n",
    "                    syn_cluster_points = syn_coords_microns[syn_cluster_labels == i]\n",
    "                    this_syn_center_vx = syn_cluster_centers[i] / np.array([18,18,45]) * 1000\n",
    "                    print('bouton', i)\n",
    "                    if (this_syn_center_vx[2] > 200) and (this_syn_center_vx[2] < 2040):\n",
    "                        if len(syn_cluster_points) < 24:\n",
    "                            bbx=get_bbox_for_syn_cluster(syn_cluster_points, vol, 200)\n",
    "                        elif len(syn_cluster_points) < 36:\n",
    "                            bbx=get_bbox_for_syn_cluster(syn_cluster_points, vol, 250)\n",
    "                        else:\n",
    "                            bbx=get_bbox_for_syn_cluster(syn_cluster_points, vol, 300)\n",
    "                        bbox_nm = np.array([bbx.minpt.x, bbx.maxpt.x, bbx.minpt.y, bbx.maxpt.y, bbx.minpt.z, bbx.maxpt.z]) * np.array([18,18,18,18,45,45])\n",
    "                        try:\n",
    "                            mesh = mm.mesh(seg_id = latest_mf, remove_duplicate_vertices=True)\n",
    "                        except:\n",
    "                            print('no mesh')\n",
    "                            return ['no mesh available', latest_mf, latest_root_PC, this_syn_center_vx]\n",
    "\n",
    "                        vertices_bbox, faces_bbox = get_mesh_in_bbox(mesh.vertices, mesh.faces, bbox_nm)\n",
    "                        vertices_bbox_microns = vertices_bbox/1000\n",
    "                        try:\n",
    "                            vertices_bouton,vertices_nonbouton,counts,counts_thresholded = divide_vertices_by_count_neighboring_voxels(vertices_bbox_microns, radius)\n",
    "                            vertices_bouton_vx = np.round(vertices_bouton / np.array([18,18,45]) * 1000, decimals=3)\n",
    "                            bouton_bbox = copy.deepcopy(bbx)\n",
    "                            bouton_bbox.minpt.x, bouton_bbox.minpt.y, bouton_bbox.minpt.z = vertices_bouton_vx.min(axis=0)\n",
    "                            bouton_bbox.maxpt.x, bouton_bbox.maxpt.y, bouton_bbox.maxpt.z = vertices_bouton_vx.max(axis=0)  \n",
    "                            seg_bouton = vol.download(bbox=bouton_bbox, label=latest_mf) \n",
    "                            seg_bouton = np.squeeze(seg_bouton, axis=-1)\n",
    "                            bouton_vol = np.round(np.sum(seg_bouton) * 0.018 * 0.018 * 0.045, decimals=4)\n",
    "\n",
    "                            result.append(['double_bouton',latest_mf, latest_root_PC, this_syn_center_vx, len(syn_coords), bouton_vol, bouton_bbox, syn_sv_id])\n",
    "                        \n",
    "                            #save_bouton_split_result_3D_seg(seg_bouton, latest_mf, latest_root_PC)\n",
    "                            save_bouton_split_result_3D_mesh(vertices_bbox_microns, counts_thresholded, latest_mf, latest_root_PC)\n",
    "                        except:\n",
    "                            print('likely to be not MF')\n",
    "                            result.append(['not MF',latest_mf, latest_root_PC, this_syn_center_vx, len(syn_coords), syn_sv_id])\n",
    "    \n",
    "                        \n",
    "        else: \n",
    "            \n",
    "            \n",
    "            if (syn_cluster_center_vx[2] > 200) and (syn_cluster_center_vx[2] < 2040):\n",
    "                print('single bouton')\n",
    "                if len(syn_coords_microns) < 24:\n",
    "                    bbx=get_bbox_for_syn_cluster(syn_coords_microns, vol, 400)\n",
    "                elif len(syn_coords_microns) < 36:\n",
    "                    bbx=get_bbox_for_syn_cluster(syn_coords_microns, vol, 500)\n",
    "                else:\n",
    "                    bbx=get_bbox_for_syn_cluster(syn_coords_microns, vol, 600)\n",
    "                bbox_nm = np.array([bbx.minpt.x, bbx.maxpt.x, bbx.minpt.y, bbx.maxpt.y, bbx.minpt.z, bbx.maxpt.z]) * np.array([18,18,18,18,45,45])\n",
    "                #syn_center_bbox_vx = this_syn_center-[bbx.minpt.x, bbx.minpt.y, bbx.minpt.z]\n",
    "                try:\n",
    "                    mesh = mm.mesh(seg_id = latest_mf, remove_duplicate_vertices=True)\n",
    "                except:\n",
    "                    print('no mesh')\n",
    "                    return ['no mesh available', latest_mf, latest_root_PC, syn_cluster_center_vx]\n",
    "\n",
    "                vertices_bbox, faces_bbox = get_mesh_in_bbox(mesh.vertices, mesh.faces, bbox_nm)\n",
    "                vertices_bbox_microns = vertices_bbox/1000\n",
    "                vertices_bouton,vertices_nonbouton,counts,counts_thresholded = divide_vertices_by_count_neighboring_voxels(vertices_bbox_microns, radius)\n",
    "                vertices_bouton_vx = np.round(vertices_bouton / np.array([18,18,45]) * 1000, decimals=3)\n",
    "                bouton_bbox = copy.deepcopy(bbx)\n",
    "                bouton_bbox.minpt.x, bouton_bbox.minpt.y, bouton_bbox.minpt.z = vertices_bouton_vx.min(axis=0)\n",
    "                bouton_bbox.maxpt.x, bouton_bbox.maxpt.y, bouton_bbox.maxpt.z = vertices_bouton_vx.max(axis=0)  \n",
    "                seg_bouton = vol.download(bbox=bouton_bbox, label=latest_mf)  \n",
    "                seg_bouton = np.squeeze(seg_bouton, axis=-1)\n",
    "                bouton_vol = np.round(np.sum(seg_bouton) * 0.018 * 0.018 * 0.045, decimals=4)\n",
    "                    \n",
    "                result.append([latest_mf, latest_root_PC, syn_cluster_center_vx, len(syn_coords), bouton_vol, bouton_bbox, syn_sv_id])\n",
    "                \n",
    "                #save_bouton_split_result_3D_seg(seg_bouton, latest_mf, latest_root_PC)\n",
    "                save_bouton_split_result_3D_mesh(vertices_bbox_microns, counts_thresholded, latest_mf, latest_root_PC)\n",
    "        \n",
    "            else:\n",
    "                print('truncated bouton')\n",
    "            \n",
    "        return result\n",
    "\n",
    "stime = time.time()\n",
    "radius = 3\n",
    "results = []\n",
    "print('last i = ', len(latest_roots_PC)//3*1)\n",
    "for i in range(0,1):\n",
    "#for i in range(183,len(latest_roots_PC)//3*1):\n",
    "\n",
    "    latest_root_mfs = mf_group[i][1]\n",
    "    #latest_root_mfs = [648518346444590140,648518346440318053]\n",
    "    if latest_root_mfs is not None:\n",
    "        latest_root_pc = client.chunkedgraph.suggest_latest_roots(mf_group[i][0])\n",
    "        #latest_root_pc = 648518346451792508\n",
    "        syn = client.materialize.synapse_query(pre_ids=latest_root_mfs, post_ids=latest_root_pc, bounding_box=None, bounding_box_column='post_pt_position', \n",
    "                    timestamp=None, remove_autapses=True, include_zeros=False, limit=None, offset=None, \n",
    "                    split_positions=False, desired_resolution=[18,18,45], materialization_version=None, \n",
    "                    synapse_table='synapses_ca3_v1', datastack_name='zheng_ca3', metadata=True) \n",
    "        for j in range(0,100):\n",
    "#        for j in range(0,len(latest_root_mfs)):\n",
    "#            if i==183 and j <= 46:   # to carry on from interrupted previous run\n",
    "#                continue\n",
    "#            time.sleep(1)\n",
    "            \n",
    "            mm = trimesh_io.MeshMeta(cv_path='gs://zheng_mouse_hippocampus_production/v2/seg_m153',\n",
    "                                    disk_cache_path=mesh_dir, cache_size=20)\n",
    "            syn_center_pos = syn.loc[syn['pre_pt_root_id'] == latest_root_mfs[j], ['pre_pt_position']].values\n",
    "            if len(syn_center_pos) == 0:\n",
    "                latest_root_mfs[j] = client.chunkedgraph.suggest_latest_roots(latest_root_mfs[j])\n",
    "                syn2 = client.materialize.synapse_query(pre_ids=latest_root_mfs[j], post_ids=latest_root_pc, bounding_box=None, bounding_box_column='post_pt_position', \n",
    "                    timestamp=None, remove_autapses=True, include_zeros=False, limit=None, offset=None, \n",
    "                    split_positions=False, desired_resolution=[18,18,45], materialization_version=None, \n",
    "                    synapse_table='synapses_ca3_v1', datastack_name='zheng_ca3', metadata=True) \n",
    "                if len(syn2) > 0:\n",
    "                    syn_center_pos = syn2.loc[syn2['pre_pt_root_id'] == latest_root_mfs[j], ['pre_pt_position']].values\n",
    "                    syn_sv_ids = syn2.loc[syn2['pre_pt_root_id'] == latest_root_mfs[j], ['pre_pt_supervoxel_id']].values\n",
    "                    syn_sv_id3 = [syn_sv_ids[0][0],syn_sv_ids[1][0],syn_sv_ids[2][0]]\n",
    "                else:\n",
    "                    continue\n",
    "            else:\n",
    "                syn_sv_ids = syn.loc[syn['pre_pt_root_id'] == latest_root_mfs[j], ['pre_pt_supervoxel_id']].values\n",
    "                syn_sv_id3 = [syn_sv_ids[0][0],syn_sv_ids[1][0],syn_sv_ids[2][0]]\n",
    "                \n",
    "            #mf_id_flat_seg_m153 = get_flat_seg_id_from_sv(syn_sv_ids, vol)\n",
    "            mf_id_flat_seg_m153 = get_flat_seg_id_from_coord(syn_center_pos, vol, latest_roots_PC)\n",
    "            syn_coords = np.array([arr[0] for arr in syn_center_pos])            \n",
    "\n",
    "            if mf_id_flat_seg_m153 == -1:\n",
    "                print('Cannot locate MF seg from flat segmentation, Trying latest segmentation...')\n",
    "                mm = trimesh_io.MeshMeta(cv_path='graphene://https://minnie.microns-daf.com/segmentation/table/zheng_ca3',\n",
    "                                        disk_cache_path=mesh_dir, cache_size=20)\n",
    "                mf_id_flat_seg_m153 = latest_root_mfs[j]      \n",
    "                try:\n",
    "                    result = extract_bouton_by_voxel_density(mf_id_flat_seg_m153, latest_root_pc, vol, syn_coords, radius, syn_sv_id3, mm)\n",
    "                    results.append(result)\n",
    "                    print(i ,',', j)\n",
    "                \n",
    "                except:\n",
    "                    print('Still cannot locate MF')\n",
    "                    results.append(['Cannot locate MF using syn coords and supervoxels'])\n",
    "                    print(i ,',', j)\n",
    "                    print(mf_id_flat_seg_m153)\n",
    "                    print(latest_root_pc) \n",
    "                \n",
    "            else:\n",
    "                result = extract_bouton_by_voxel_density(mf_id_flat_seg_m153, latest_root_pc, vol, syn_coords, radius, syn_sv_id3, mm)\n",
    "                results.append(result)\n",
    "                print(i ,',', j)\n",
    "    \n",
    "print('---------------------------------')\n",
    "print('Done!')\n",
    "etime = time.time()\n",
    "print(etime-stime)\n",
    "print('---------------------------------')\n",
    "#print(results)\n",
    "\n",
    "#with open(\"./variables/mf_double_bouton_split_best_250302_01.pkl\", \"wb\") as file:\n",
    "#    pickle.dump(results, file)"
   ]
  },
  {
   "cell_type": "code",
   "execution_count": 165,
   "id": "9eba5b38",
   "metadata": {},
   "outputs": [
    {
     "name": "stdout",
     "output_type": "stream",
     "text": [
      "639\n"
     ]
    }
   ],
   "source": [
    "large_pyc = [648518346450460332, 648518346452912185, 648518346451792508, 648518346440578773, 648518346469564998, 648518346437569326, 648518346440390320, 648518346444248649, 648518346447524619, 648518346457331314, 648518346441429719, 648518346441331671, 648518346436615813, 648518346434473233, 648518346466920945, 648518346450859343, 648518346442117893, 648518346463029354, 648518346442903118, 648518346436797822, 648518346438680762, 648518346442163249, 648518346451022260, 648518346446683356, 648518346445409655, 648518346440942118, 648518346438847348, 648518346437232646, 648518346442419701, 648518346439159708, 648518346440489648, 648518346442090245, 648518346437496155, 648518346437590538, 648518346445019926, 648518346447704211, 648518346441998053, 648518346447679026]\n",
    "#print(mfpc_df['segid_0114'] == large_pyc[i])\n",
    "\n",
    "mf_group_pycid = [item[0] for item in mf_group]\n"
   ]
  },
  {
   "cell_type": "code",
   "execution_count": 127,
   "id": "14785b47",
   "metadata": {},
   "outputs": [],
   "source": [
    "mm = trimesh_io.MeshMeta(cv_path='graphene://https://minnie.microns-daf.com/segmentation/table/zheng_ca3',\n",
    "                                        disk_cache_path=mesh_dir, cache_size=20)\n",
    "mesh = mm.mesh(seg_id = 648518346440318053, remove_duplicate_vertices=True)\n"
   ]
  },
  {
   "cell_type": "code",
   "execution_count": 134,
   "id": "221bfe25",
   "metadata": {},
   "outputs": [
    {
     "name": "stdout",
     "output_type": "stream",
     "text": [
      "single bouton\n"
     ]
    }
   ],
   "source": [
    "mf_pyr_syn_thresh = 5\n",
    "dsyn_outlier_thresh = 4 #[microns]\n",
    "n_cluster_syn = 1\n",
    "result = []\n",
    "mesh_dir = '../mesh_data/'\n",
    "\n",
    "latest_mf = 648518346440318053\n",
    "latest_root_PC = 648518346451792508\n",
    "\n",
    "if syn_coords.shape[0] > mf_pyr_syn_thresh:\n",
    "    syn_coords_microns = syn_coords * np.array([18,18,45]) / 1000\n",
    "    syn_cluster_center_microns = cluster_center(syn_coords_microns)[0]  \n",
    "\n",
    "    # count number of syn too far away from the center of all syn \n",
    "    # if there are such syn, then this neuron makes more than one bouton on target cell\n",
    "    syn_cluster_center_vx = syn_cluster_center_microns / np.array([18,18,45]) * 1000\n",
    "    n_outlier = 0\n",
    "\n",
    "    if (syn_cluster_center_vx[2] > 200) and (syn_cluster_center_vx[2] < 2040):\n",
    "        print('single bouton')\n",
    "        if len(syn_coords_microns) < 24:\n",
    "            bbx=get_bbox_for_syn_cluster(syn_coords_microns, vol, 400)\n",
    "        elif len(syn_coords_microns) < 36:\n",
    "            bbx=get_bbox_for_syn_cluster(syn_coords_microns, vol, 500)\n",
    "        else:\n",
    "            bbx=get_bbox_for_syn_cluster(syn_coords_microns, vol, 600)\n",
    "        bbox_nm = np.array([bbx.minpt.x, bbx.maxpt.x, bbx.minpt.y, bbx.maxpt.y, bbx.minpt.z, bbx.maxpt.z]) * np.array([18,18,18,18,45,45])\n",
    "        #syn_center_bbox_vx = this_syn_center-[bbx.minpt.x, bbx.minpt.y, bbx.minpt.z]\n",
    "\n",
    "        try:\n",
    "            mesh = mm.mesh(seg_id = latest_mf, remove_duplicate_vertices=True)\n",
    "        except:\n",
    "            print('no mesh')\n",
    "\n",
    "        vertices_bbox, faces_bbox = get_mesh_in_bbox(mesh.vertices, mesh.faces, bbox_nm)\n",
    "        vertices_bbox_microns = vertices_bbox/1000\n",
    "        vertices_bouton,vertices_nonbouton,counts,counts_thresholded = divide_vertices_by_count_neighboring_voxels(vertices_bbox_microns, radius)\n",
    "        vertices_bouton_vx = np.round(vertices_bouton / np.array([18,18,45]) * 1000, decimals=3)\n",
    "        bouton_bbox = copy.deepcopy(bbx)\n",
    "        bouton_bbox.minpt.x, bouton_bbox.minpt.y, bouton_bbox.minpt.z = vertices_bouton_vx.min(axis=0)\n",
    "        bouton_bbox.maxpt.x, bouton_bbox.maxpt.y, bouton_bbox.maxpt.z = vertices_bouton_vx.max(axis=0)  \n",
    "        seg_bouton = vol.download(bbox=bouton_bbox, label=latest_mf)  \n",
    "        seg_bouton = np.squeeze(seg_bouton, axis=-1)\n",
    "        bouton_vol = np.round(np.sum(seg_bouton) * 0.018 * 0.018 * 0.045, decimals=4)\n",
    "\n",
    "        result.append([latest_mf, latest_root_PC, syn_cluster_center_vx, len(syn_coords), bouton_vol, bouton_bbox])\n",
    "\n",
    "        #save_bouton_split_result_3D_seg(seg_bouton, latest_mf, latest_root_PC)\n",
    "        #save_bouton_split_result_3D_mesh(vertices_bbox_microns, counts_thresholded, latest_mf, latest_root_PC)\n",
    "\n",
    "    else:\n",
    "        print('truncated bouton')\n",
    "\n",
    "\n"
   ]
  },
  {
   "cell_type": "code",
   "execution_count": 135,
   "id": "9918f13c",
   "metadata": {},
   "outputs": [
    {
     "name": "stdout",
     "output_type": "stream",
     "text": [
      "[[648518346440318053, 648518346451792508, array([53776.14285714, 60805.71428571,  1142.14285714]), 7, 14.4452, Bbox([53133, 59903, 1003],[54283, 61878, 1267], dtype=np.int32, unit='vx')]]\n"
     ]
    }
   ],
   "source": [
    "print(result)"
   ]
  },
  {
   "cell_type": "code",
   "execution_count": 8,
   "id": "0c383195",
   "metadata": {},
   "outputs": [
    {
     "name": "stdout",
     "output_type": "stream",
     "text": [
      "20 109\n",
      "648518346449241729\n",
      "648518346449241729\n",
      "648518346432558242\n",
      "648518346451792508\n",
      "True\n"
     ]
    }
   ],
   "source": [
    "print(i,j)\n",
    "print(latest_root_mfs[j])\n",
    "print( mf_group[i][1][j])\n",
    "print(mf_id_flat_seg_m153)\n",
    "print(latest_root_pc)\n",
    "#print((syn_coords))\n",
    "print(648518346450460332 in latest_roots_PC)"
   ]
  },
  {
   "cell_type": "code",
   "execution_count": 83,
   "id": "832d8e6d",
   "metadata": {},
   "outputs": [
    {
     "name": "stdout",
     "output_type": "stream",
     "text": [
      "[0, 1, 2, 3, 4]\n",
      "number of empty results 2072\n",
      "number of single boutons 22022\n",
      "number of double boutons 545\n",
      "number of triple boutons 14\n",
      "number of missing meshes 46\n",
      "[8, 6, 7]\n"
     ]
    }
   ],
   "source": [
    "# load MF-PyC boutons returned by splitter\n",
    "\n",
    "# Path to the pickle file\n",
    "file_paths = [\"./variables/mf_bouton_split_best_250302_01.pkl\", \"./variables/mf_bouton_split_best_250302_02.pkl\",\n",
    "              \"./variables/mf_bouton_split_best_250302_03.pkl\",\"./variables/mf_bouton_split_best_250302_04.pkl\",\n",
    "              \"./variables/mf_bouton_split_best_250302_05.pkl\",\"./variables/mf_bouton_split_best_250302_06.pkl\"]\n",
    "\n",
    "# Load the variable from the pickle file\n",
    "variable_loaded = []\n",
    "for i in range(0, len(file_paths)):\n",
    "    with open(file_paths[i], 'rb') as f:\n",
    "        loaded_variable = pickle.load(f)\n",
    "        \n",
    "        # bouton_info: [MF pre_id, PyC post_id, syn_cluster_center, num_syn, bouton_vol]\n",
    "        variable_loaded = variable_loaded + loaded_variable\n",
    "\n",
    "\n",
    "\n",
    "length_data = [len(sublist) for sublist in variable_loaded]\n",
    "possible_len = list(set(length_data))\n",
    "print(possible_len)\n",
    "\n",
    "len0 = [sublist for sublist in variable_loaded if len(sublist)==0]  # empty result\n",
    "len1 = [sublist for sublist in variable_loaded if len(sublist)==1]  # single bouton result\n",
    "len2 = [sublist for sublist in variable_loaded if len(sublist)==2]  # double bouton result\n",
    "len3 = [sublist for sublist in variable_loaded if len(sublist)==3]  # double bouton result\n",
    "len4 = [sublist for sublist in variable_loaded if len(sublist)==4]  # no mesh available\n",
    "\n",
    "print('number of empty results', len(len0))  \n",
    "print('number of single boutons', len(len1))\n",
    "print('number of double boutons', len(len2))\n",
    "print('number of triple boutons', len(len3))\n",
    "print('number of missing meshes', len(len4))\n",
    "\n",
    "variable_flattened = []\n",
    "for sublist in variable_loaded:\n",
    "    if len(sublist) == 0:\n",
    "        continue\n",
    "    elif len(sublist) == 1:\n",
    "        variable_flattened.extend(sublist)\n",
    "    elif len(sublist) == 2:\n",
    "        variable_flattened.extend(sublist)\n",
    "    elif len(sublist) == 3:\n",
    "        variable_flattened.extend(sublist)\n",
    "    else:\n",
    "        continue\n",
    "\n",
    "\n",
    "length_data = [len(sublist) for sublist in variable_flattened]\n",
    "possible_len = list(set(length_data))\n",
    "print(possible_len)\n",
    "\n",
    "len6 = [sublist for sublist in variable_flattened if len(sublist)==6]  # empty result\n",
    "len7 = [sublist for sublist in variable_flattened if len(sublist)==7]  # single bouton result\n",
    "len8 = [sublist for sublist in variable_flattened if len(sublist)==8]  # double bouton result\n",
    "\n",
    "variable_final = [['single_bouton']+ sublist for sublist in len7] + len8\n",
    "with open(\"./variables/mf_bouton_split_best_250302_all.pkl\", \"wb\") as file:\n",
    "    pickle.dump(variable_final, file)        \n"
   ]
  },
  {
   "cell_type": "code",
   "execution_count": 57,
   "id": "96eea273",
   "metadata": {},
   "outputs": [
    {
     "name": "stdout",
     "output_type": "stream",
     "text": [
      "[0, 1, 2, 3, 4]\n",
      "2072\n",
      "22022\n",
      "545\n",
      "14\n",
      "46\n"
     ]
    }
   ],
   "source": []
  },
  {
   "cell_type": "code",
   "execution_count": null,
   "id": "900ca178",
   "metadata": {},
   "outputs": [],
   "source": [
    "root_ids = []\n",
    "for i in range(0,5):\n",
    "    root_ids.append(client.chunkedgraph.get_root_id(syn_sv_ids[i][0]))\n",
    "print(root_ids)\n",
    "\n",
    "counts = Counter(root_ids)\n",
    "latest_MF = counts.most_common(1)[0][0]\n",
    "print(latest_MF)"
   ]
  },
  {
   "cell_type": "code",
   "execution_count": 75,
   "id": "739048a9",
   "metadata": {},
   "outputs": [
    {
     "name": "stdout",
     "output_type": "stream",
     "text": [
      "['double_bouton', 648518346441957457, 648518346450460332, array([56701.27272727, 70359.90909091,  1656.36363636]), 50, 5.5703, Bbox([56640, 70266, 1597],[56811, 70414, 1717], dtype=np.int32, unit='vx'), [76990141041762730, 77060440865584760, 77060440865569400]]\n",
      "['double_bouton', 648518346441957457, 648518346450460332, array([57048.25641026, 69754.33333333,  1117.74358974]), 50, 23.7899, Bbox([56946, 69604, 1056],[57170, 69886, 1190], dtype=np.int32, unit='vx'), [76990141041762730, 77060440865584760, 77060440865569400]]\n",
      "[648518346460022915, 648518346450460332, array([56302.17391304, 70139.93478261,   479.97826087]), 46, 28.8449, Bbox([56223, 69981, 403],[56412, 70282, 571], dtype=np.int32, unit='vx'), [76919771962307881, 76919771962429820, 76919771962383835]]\n",
      "[648518346457833909, 648518346450460332, array([57026.11627907, 69733.74418605,  1502.46511628]), 43, 26.556, Bbox([56884, 69500, 1415],[57112, 69879, 1548], dtype=np.int32, unit='vx'), [77060440999623018, 77060440999530641, 77060440999558652]]\n",
      "[648518346432722045, 648518346450460332, array([56600.3902439 , 69750.09756098,  1251.73170732]), 41, 29.7197, Bbox([56436, 69644, 1185],[56750, 69913, 1312], dtype=np.int32, unit='vx'), [76990072188381703, 76990072188442968, 76990072188404313]]\n",
      "[8, 6, 7]\n",
      "4\n",
      "21777\n",
      "1373\n"
     ]
    }
   ],
   "source": [
    "\n",
    "print((variable_flattened[0]))\n",
    "print((variable_flattened[1]))\n",
    "print((variable_flattened[2]))\n",
    "print((variable_flattened[3]))\n",
    "print((variable_flattened[4]))\n"
   ]
  },
  {
   "cell_type": "code",
   "execution_count": 77,
   "id": "6be26fe2",
   "metadata": {},
   "outputs": [
    {
     "name": "stdout",
     "output_type": "stream",
     "text": [
      "['not MF', 648518346432558242, 648518346451792508, array([54318.71428571, 60846.        ,  1395.42857143]), 9, [76496254028419770, 76355516405775768, 76637060303481611]]\n",
      "['not MF', 648518346425208473, 648518346439126428, array([45858.33333333, 56339.66666667,  1644.33333333]), 9, [75510541854230492, 75510541787107911, 75510541787321659]]\n",
      "['not MF', 648518346431973039, 648518346451006900, array([55073.        , 56655.16666667,  1768.5       ]), 10, [76636647852210500, 76636647852206995, 76636647852281697]]\n",
      "[648518346460022915, 648518346450460332, array([56302.17391304, 70139.93478261,   479.97826087]), 46, 28.8449, Bbox([56223, 69981, 403],[56412, 70282, 571], dtype=np.int32, unit='vx'), [76919771962307881, 76919771962429820, 76919771962383835]]\n",
      "['double_bouton', 648518346441957457, 648518346450460332, array([56701.27272727, 70359.90909091,  1656.36363636]), 50, 5.5703, Bbox([56640, 70266, 1597],[56811, 70414, 1717], dtype=np.int32, unit='vx'), [76990141041762730, 77060440865584760, 77060440865569400]]\n"
     ]
    }
   ],
   "source": [
    "print(len6[0])\n",
    "print(len7[0])\n",
    "print(len8[0])"
   ]
  },
  {
   "cell_type": "code",
   "execution_count": null,
   "id": "a021fe36",
   "metadata": {},
   "outputs": [],
   "source": [
    "pre_mfs_old = bouton_info['pre_mf_id'].values\n",
    "post_pyc_old = bouton_info['post_pyc_id'].values\n",
    "pre_mfs = []\n",
    "post_pyc = []\n",
    "\n",
    "for i in range(0, len(pre_mfs_old)):\n",
    "    pre_mfs.append(client.chunkedgraph.suggest_latest_roots(pre_mfs_old[i]))\n",
    "    \n",
    "for i in range(0, len(post_pyc_old)):\n",
    "    post_pyc.append(client.chunkedgraph.suggest_latest_roots(post_pyc_old[i]))\n"
   ]
  },
  {
   "cell_type": "code",
   "execution_count": null,
   "id": "f852ebb1",
   "metadata": {},
   "outputs": [],
   "source": [
    "# load MF-PyC boutons grouped by target PyC\n",
    "\n",
    "# Path to the pickle file\n",
    "file_paths = ['./variables/mf_pyc_gt_bouton_quick_split_1_of_4.pkl', './variables/mf_pyc_gt_bouton_quick_split_2_of_4.pkl',\n",
    "              './variables/mf_pyc_gt_bouton_quick_split_3_of_4.pkl','./variables/mf_pyc_gt_bouton_quick_split_4_of_4.pkl']\n",
    "\n",
    "# Load the variable from the pickle file\n",
    "latest_pc_roots = []\n",
    "bouton_vols_grouped = []\n",
    "latest_mf_roots = []\n",
    "for i in range(0, len(file_paths)):\n",
    "    with open(file_paths[i], 'rb') as f:\n",
    "        loaded_variable = pickle.load(f)\n",
    "        \n",
    "        # bouton_info: [MF pre_id, PyC post_id, syn_cluster_center, num_syn, bouton_vol]\n",
    "        latest_pc_roots = latest_pc_roots + loaded_variable[0]\n",
    "        bouton_vols_grouped = bouton_vols_grouped + loaded_variable[1]\n",
    "\n",
    "# Display the loaded variable\n",
    "#bouton_group_info = pd.DataFrame(variable_loaded, columns=['latest_roots_PC','bouton_vol_um3'])\n",
    "\n",
    "# remove those without any MFs\n",
    "idx_none = [i for i, val in enumerate(bouton_vols_grouped) if val is None or len(val) == 0]\n",
    "latest_pc_roots = [a for i, a in enumerate(latest_pc_roots) if i not in idx_none]\n",
    "bouton_vols_grouped = [a for i, a in enumerate(bouton_vols_grouped) if i not in idx_none]"
   ]
  },
  {
   "cell_type": "code",
   "execution_count": null,
   "id": "5e633208",
   "metadata": {},
   "outputs": [],
   "source": [
    "# sort the list by the number of presyn-MFs\n",
    "\n",
    "numMFs = [len(sublist) for sublist in bouton_vols_grouped]\n",
    "print(numMFs)\n",
    "plt.hist(numMFs)"
   ]
  },
  {
   "cell_type": "code",
   "execution_count": null,
   "id": "678bae78",
   "metadata": {},
   "outputs": [],
   "source": []
  }
 ],
 "metadata": {
  "kernelspec": {
   "display_name": "Python 3 (ipykernel)",
   "language": "python",
   "name": "python3"
  },
  "language_info": {
   "codemirror_mode": {
    "name": "ipython",
    "version": 3
   },
   "file_extension": ".py",
   "mimetype": "text/x-python",
   "name": "python",
   "nbconvert_exporter": "python",
   "pygments_lexer": "ipython3",
   "version": "3.10.14"
  }
 },
 "nbformat": 4,
 "nbformat_minor": 5
}
